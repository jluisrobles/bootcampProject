{
 "cells": [
  {
   "cell_type": "code",
   "execution_count": 1,
   "id": "5e3e86df",
   "metadata": {},
   "outputs": [],
   "source": [
    "import pandas as pd \n",
    "import numpy as np \n",
    "import matplotlib.pyplot as plt\n",
    "import pickle\n",
    "import joblib\n",
    "from sklearn.cluster import KMeans\n",
    "from sklearn.metrics import precision_score, mean_absolute_error, mean_squared_error\n",
    "from sklearn import preprocessing\n",
    "from sklearn.cluster import HDBSCAN\n",
    "from sklearn.preprocessing import StandardScaler\n",
    "from sklearn.decomposition import PCA"
   ]
  },
  {
   "cell_type": "code",
   "execution_count": 2,
   "id": "7c825088",
   "metadata": {
    "scrolled": true
   },
   "outputs": [],
   "source": [
    "df = pd.read_csv('vehiculos-de-segunda-mano-sample.csv')\n",
    "df_provincia = pd.read_csv('Coches010923Completo.csv')"
   ]
  },
  {
   "cell_type": "markdown",
   "id": "d9c83fc0",
   "metadata": {},
   "source": [
    "## EDA"
   ]
  },
  {
   "cell_type": "markdown",
   "id": "db1dc3df",
   "metadata": {},
   "source": [
    "### Echamos un vistazo a nuestro dataframe"
   ]
  },
  {
   "cell_type": "code",
   "execution_count": 3,
   "id": "089ffe1e",
   "metadata": {},
   "outputs": [
    {
     "data": {
      "text/html": [
       "<div>\n",
       "<style scoped>\n",
       "    .dataframe tbody tr th:only-of-type {\n",
       "        vertical-align: middle;\n",
       "    }\n",
       "\n",
       "    .dataframe tbody tr th {\n",
       "        vertical-align: top;\n",
       "    }\n",
       "\n",
       "    .dataframe thead th {\n",
       "        text-align: right;\n",
       "    }\n",
       "</style>\n",
       "<table border=\"1\" class=\"dataframe\">\n",
       "  <thead>\n",
       "    <tr style=\"text-align: right;\">\n",
       "      <th></th>\n",
       "      <th>vehicle_type</th>\n",
       "      <th>make</th>\n",
       "      <th>model</th>\n",
       "      <th>version</th>\n",
       "      <th>fuel</th>\n",
       "      <th>year</th>\n",
       "      <th>kms</th>\n",
       "      <th>power</th>\n",
       "      <th>doors</th>\n",
       "      <th>shift</th>\n",
       "      <th>...</th>\n",
       "      <th>dealer_name</th>\n",
       "      <th>dealer_description</th>\n",
       "      <th>dealer_address</th>\n",
       "      <th>dealer_zip_code</th>\n",
       "      <th>dealer_city</th>\n",
       "      <th>dealer_country_code</th>\n",
       "      <th>dealer_is_professional</th>\n",
       "      <th>dealer_website</th>\n",
       "      <th>dealer_registered_at</th>\n",
       "      <th>date</th>\n",
       "    </tr>\n",
       "  </thead>\n",
       "  <tbody>\n",
       "    <tr>\n",
       "      <th>0</th>\n",
       "      <td>car</td>\n",
       "      <td>Opel</td>\n",
       "      <td>Crossland</td>\n",
       "      <td>1.2 GAS 110 GS Line 5p S/S</td>\n",
       "      <td>Gasolina</td>\n",
       "      <td>2022</td>\n",
       "      <td>5.0</td>\n",
       "      <td>110.0</td>\n",
       "      <td>NaN</td>\n",
       "      <td>manual</td>\n",
       "      <td>...</td>\n",
       "      <td>Sergio Y.</td>\n",
       "      <td>NaN</td>\n",
       "      <td>2, Carrer de Jacint Benavente, Poblenou, Pined...</td>\n",
       "      <td>8397.0</td>\n",
       "      <td>Pineda de Mar</td>\n",
       "      <td>ES</td>\n",
       "      <td>True</td>\n",
       "      <td>www.cocheauto.com</td>\n",
       "      <td>2017-01-18</td>\n",
       "      <td>2023-02-06</td>\n",
       "    </tr>\n",
       "    <tr>\n",
       "      <th>1</th>\n",
       "      <td>car</td>\n",
       "      <td>Opel</td>\n",
       "      <td>Crossland</td>\n",
       "      <td>1.2 81kW (110CV) GS Line</td>\n",
       "      <td>Gasolina</td>\n",
       "      <td>2022</td>\n",
       "      <td>24847.0</td>\n",
       "      <td>110.0</td>\n",
       "      <td>NaN</td>\n",
       "      <td>manual</td>\n",
       "      <td>...</td>\n",
       "      <td>Peugeot Alcala 534</td>\n",
       "      <td>Concesionario Oficial Peugeot Alcalá 534. Disp...</td>\n",
       "      <td>Avenida de José Gárate, Coslada, Área metropol...</td>\n",
       "      <td>28823.0</td>\n",
       "      <td>Coslada</td>\n",
       "      <td>ES</td>\n",
       "      <td>True</td>\n",
       "      <td>www.alcala534.com/es/vehiculos-ocasion</td>\n",
       "      <td>2019-02-15</td>\n",
       "      <td>2023-02-06</td>\n",
       "    </tr>\n",
       "    <tr>\n",
       "      <th>2</th>\n",
       "      <td>car</td>\n",
       "      <td>Opel</td>\n",
       "      <td>Crossland</td>\n",
       "      <td>1.5D 88kW (120CV) Business Elegance Auto</td>\n",
       "      <td>Diésel</td>\n",
       "      <td>2021</td>\n",
       "      <td>41356.0</td>\n",
       "      <td>120.0</td>\n",
       "      <td>NaN</td>\n",
       "      <td>automatic</td>\n",
       "      <td>...</td>\n",
       "      <td>Clicars S.</td>\n",
       "      <td>Nº1 en Europa en venta de coches online. \\nYa ...</td>\n",
       "      <td>San Cristóbal, Avenida de Andalucía, San Crist...</td>\n",
       "      <td>28021.0</td>\n",
       "      <td>Madrid</td>\n",
       "      <td>ES</td>\n",
       "      <td>True</td>\n",
       "      <td>www.clicars.com/</td>\n",
       "      <td>2016-05-09</td>\n",
       "      <td>2023-02-06</td>\n",
       "    </tr>\n",
       "    <tr>\n",
       "      <th>3</th>\n",
       "      <td>car</td>\n",
       "      <td>Opel</td>\n",
       "      <td>Crossland</td>\n",
       "      <td>GS-Line 1.2 GAS MT6 S/S 110cv</td>\n",
       "      <td>Gasolina</td>\n",
       "      <td>2022</td>\n",
       "      <td>11.0</td>\n",
       "      <td>110.0</td>\n",
       "      <td>NaN</td>\n",
       "      <td>manual</td>\n",
       "      <td>...</td>\n",
       "      <td>Vallescar S.</td>\n",
       "      <td>¿QUIERES UN VEHÍCULO HECHO A TU MEDIDA, CON LA...</td>\n",
       "      <td>Parc de Bombers de Sabadell, 52, Carretera de ...</td>\n",
       "      <td>8200.0</td>\n",
       "      <td>Sabadell</td>\n",
       "      <td>ES</td>\n",
       "      <td>True</td>\n",
       "      <td>https://www.vallescarocasion.es/</td>\n",
       "      <td>2019-09-30</td>\n",
       "      <td>2023-02-06</td>\n",
       "    </tr>\n",
       "    <tr>\n",
       "      <th>4</th>\n",
       "      <td>car</td>\n",
       "      <td>Opel</td>\n",
       "      <td>Crossland</td>\n",
       "      <td>GS-Line 1.2 GAS MT6 S/S 110cv</td>\n",
       "      <td>Gasolina</td>\n",
       "      <td>2022</td>\n",
       "      <td>11.0</td>\n",
       "      <td>110.0</td>\n",
       "      <td>NaN</td>\n",
       "      <td>manual</td>\n",
       "      <td>...</td>\n",
       "      <td>Vallescar Ocasion M.</td>\n",
       "      <td>¿QUIERES UN VEHÍCULO HECHO A TU MEDIDA, CON LA...</td>\n",
       "      <td>27, Carrer de Fèlix Ferran, Mollet del Vallès,...</td>\n",
       "      <td>8100.0</td>\n",
       "      <td>Mollet del Vallès</td>\n",
       "      <td>ES</td>\n",
       "      <td>True</td>\n",
       "      <td>https://www.vallescarocasion.es/</td>\n",
       "      <td>2017-04-19</td>\n",
       "      <td>2023-02-06</td>\n",
       "    </tr>\n",
       "  </tbody>\n",
       "</table>\n",
       "<p>5 rows × 28 columns</p>\n",
       "</div>"
      ],
      "text/plain": [
       "  vehicle_type  make      model                                   version  \\\n",
       "0          car  Opel  Crossland                1.2 GAS 110 GS Line 5p S/S   \n",
       "1          car  Opel  Crossland                  1.2 81kW (110CV) GS Line   \n",
       "2          car  Opel  Crossland  1.5D 88kW (120CV) Business Elegance Auto   \n",
       "3          car  Opel  Crossland             GS-Line 1.2 GAS MT6 S/S 110cv   \n",
       "4          car  Opel  Crossland             GS-Line 1.2 GAS MT6 S/S 110cv   \n",
       "\n",
       "       fuel  year      kms  power  doors      shift  ...  \\\n",
       "0  Gasolina  2022      5.0  110.0    NaN     manual  ...   \n",
       "1  Gasolina  2022  24847.0  110.0    NaN     manual  ...   \n",
       "2    Diésel  2021  41356.0  120.0    NaN  automatic  ...   \n",
       "3  Gasolina  2022     11.0  110.0    NaN     manual  ...   \n",
       "4  Gasolina  2022     11.0  110.0    NaN     manual  ...   \n",
       "\n",
       "            dealer_name                                 dealer_description  \\\n",
       "0             Sergio Y.                                                NaN   \n",
       "1    Peugeot Alcala 534  Concesionario Oficial Peugeot Alcalá 534. Disp...   \n",
       "2            Clicars S.  Nº1 en Europa en venta de coches online. \\nYa ...   \n",
       "3          Vallescar S.  ¿QUIERES UN VEHÍCULO HECHO A TU MEDIDA, CON LA...   \n",
       "4  Vallescar Ocasion M.  ¿QUIERES UN VEHÍCULO HECHO A TU MEDIDA, CON LA...   \n",
       "\n",
       "                                      dealer_address  dealer_zip_code  \\\n",
       "0  2, Carrer de Jacint Benavente, Poblenou, Pined...           8397.0   \n",
       "1  Avenida de José Gárate, Coslada, Área metropol...          28823.0   \n",
       "2  San Cristóbal, Avenida de Andalucía, San Crist...          28021.0   \n",
       "3  Parc de Bombers de Sabadell, 52, Carretera de ...           8200.0   \n",
       "4  27, Carrer de Fèlix Ferran, Mollet del Vallès,...           8100.0   \n",
       "\n",
       "         dealer_city dealer_country_code dealer_is_professional  \\\n",
       "0      Pineda de Mar                  ES                   True   \n",
       "1            Coslada                  ES                   True   \n",
       "2             Madrid                  ES                   True   \n",
       "3           Sabadell                  ES                   True   \n",
       "4  Mollet del Vallès                  ES                   True   \n",
       "\n",
       "                           dealer_website dealer_registered_at        date  \n",
       "0                       www.cocheauto.com           2017-01-18  2023-02-06  \n",
       "1  www.alcala534.com/es/vehiculos-ocasion           2019-02-15  2023-02-06  \n",
       "2                        www.clicars.com/           2016-05-09  2023-02-06  \n",
       "3        https://www.vallescarocasion.es/           2019-09-30  2023-02-06  \n",
       "4        https://www.vallescarocasion.es/           2017-04-19  2023-02-06  \n",
       "\n",
       "[5 rows x 28 columns]"
      ]
     },
     "execution_count": 3,
     "metadata": {},
     "output_type": "execute_result"
    }
   ],
   "source": [
    "df.head()"
   ]
  },
  {
   "cell_type": "markdown",
   "id": "e5a4d890",
   "metadata": {},
   "source": [
    "Obtenemos el numero de valores únicos por cada columna"
   ]
  },
  {
   "cell_type": "code",
   "execution_count": 4,
   "id": "5ba68fce",
   "metadata": {},
   "outputs": [
    {
     "data": {
      "text/plain": [
       "vehicle_type                 1\n",
       "make                        66\n",
       "model                      748\n",
       "version                   8658\n",
       "fuel                         4\n",
       "year                        43\n",
       "kms                       6643\n",
       "power                      349\n",
       "doors                        0\n",
       "shift                        2\n",
       "color                        0\n",
       "photos                      10\n",
       "description               6439\n",
       "price                     2665\n",
       "currency                     1\n",
       "location                   669\n",
       "publish_date               424\n",
       "update_date                 38\n",
       "dealer_name               1678\n",
       "dealer_description        1181\n",
       "dealer_address            1675\n",
       "dealer_zip_code            872\n",
       "dealer_city                665\n",
       "dealer_country_code          1\n",
       "dealer_is_professional       1\n",
       "dealer_website             888\n",
       "dealer_registered_at      1177\n",
       "date                        13\n",
       "dtype: int64"
      ]
     },
     "execution_count": 4,
     "metadata": {},
     "output_type": "execute_result"
    }
   ],
   "source": [
    "df.nunique()"
   ]
  },
  {
   "cell_type": "markdown",
   "id": "0204f288",
   "metadata": {},
   "source": [
    "Obtenemos la suma del numero de valores nulos por cada columna"
   ]
  },
  {
   "cell_type": "code",
   "execution_count": 5,
   "id": "74568b49",
   "metadata": {},
   "outputs": [
    {
     "data": {
      "text/plain": [
       "vehicle_type                   0\n",
       "make                           0\n",
       "model                          0\n",
       "version                      158\n",
       "fuel                        3190\n",
       "year                           0\n",
       "kms                          811\n",
       "power                        291\n",
       "doors                     100000\n",
       "shift                       1018\n",
       "color                     100000\n",
       "photos                         0\n",
       "description                44190\n",
       "price                          0\n",
       "currency                       0\n",
       "location                       0\n",
       "publish_date                   0\n",
       "update_date                    0\n",
       "dealer_name                   92\n",
       "dealer_description         18442\n",
       "dealer_address                92\n",
       "dealer_zip_code               92\n",
       "dealer_city                   92\n",
       "dealer_country_code            0\n",
       "dealer_is_professional         0\n",
       "dealer_website             20087\n",
       "dealer_registered_at          92\n",
       "date                           0\n",
       "dtype: int64"
      ]
     },
     "execution_count": 5,
     "metadata": {},
     "output_type": "execute_result"
    }
   ],
   "source": [
    "df.isna().sum()"
   ]
  },
  {
   "cell_type": "markdown",
   "id": "58d95827",
   "metadata": {},
   "source": [
    "Inspeccionamos las columnas de localidades y provincias"
   ]
  },
  {
   "cell_type": "code",
   "execution_count": 6,
   "id": "0961e721",
   "metadata": {},
   "outputs": [
    {
     "data": {
      "text/html": [
       "<div>\n",
       "<style scoped>\n",
       "    .dataframe tbody tr th:only-of-type {\n",
       "        vertical-align: middle;\n",
       "    }\n",
       "\n",
       "    .dataframe tbody tr th {\n",
       "        vertical-align: top;\n",
       "    }\n",
       "\n",
       "    .dataframe thead th {\n",
       "        text-align: right;\n",
       "    }\n",
       "</style>\n",
       "<table border=\"1\" class=\"dataframe\">\n",
       "  <thead>\n",
       "    <tr style=\"text-align: right;\">\n",
       "      <th></th>\n",
       "      <th>make</th>\n",
       "      <th>model</th>\n",
       "      <th>fuel</th>\n",
       "      <th>kms</th>\n",
       "      <th>power</th>\n",
       "      <th>shift</th>\n",
       "      <th>price</th>\n",
       "      <th>location</th>\n",
       "      <th>codigopostalid</th>\n",
       "      <th>provincia</th>\n",
       "      <th>poblacion</th>\n",
       "    </tr>\n",
       "  </thead>\n",
       "  <tbody>\n",
       "    <tr>\n",
       "      <th>0</th>\n",
       "      <td>Opel</td>\n",
       "      <td>Crossland</td>\n",
       "      <td>Gasolina</td>\n",
       "      <td>5.0</td>\n",
       "      <td>110.0</td>\n",
       "      <td>manual</td>\n",
       "      <td>22900</td>\n",
       "      <td>Pineda de Mar</td>\n",
       "      <td>8397</td>\n",
       "      <td>Barcelona</td>\n",
       "      <td>Pineda de Mar</td>\n",
       "    </tr>\n",
       "    <tr>\n",
       "      <th>1</th>\n",
       "      <td>Opel</td>\n",
       "      <td>Crossland</td>\n",
       "      <td>Gasolina</td>\n",
       "      <td>24847.0</td>\n",
       "      <td>110.0</td>\n",
       "      <td>manual</td>\n",
       "      <td>19990</td>\n",
       "      <td>Coslada</td>\n",
       "      <td>28823</td>\n",
       "      <td>Madrid</td>\n",
       "      <td>Coslada</td>\n",
       "    </tr>\n",
       "    <tr>\n",
       "      <th>2</th>\n",
       "      <td>Opel</td>\n",
       "      <td>Crossland</td>\n",
       "      <td>Diésel</td>\n",
       "      <td>41356.0</td>\n",
       "      <td>120.0</td>\n",
       "      <td>automatic</td>\n",
       "      <td>18590</td>\n",
       "      <td>Madrid</td>\n",
       "      <td>28021</td>\n",
       "      <td>Madrid</td>\n",
       "      <td>Madrid</td>\n",
       "    </tr>\n",
       "    <tr>\n",
       "      <th>3</th>\n",
       "      <td>Opel</td>\n",
       "      <td>Crossland</td>\n",
       "      <td>Gasolina</td>\n",
       "      <td>11.0</td>\n",
       "      <td>110.0</td>\n",
       "      <td>manual</td>\n",
       "      <td>22700</td>\n",
       "      <td>Sabadell</td>\n",
       "      <td>8201</td>\n",
       "      <td>Barcelona</td>\n",
       "      <td>Sabadell</td>\n",
       "    </tr>\n",
       "    <tr>\n",
       "      <th>4</th>\n",
       "      <td>Opel</td>\n",
       "      <td>Crossland</td>\n",
       "      <td>Gasolina</td>\n",
       "      <td>11.0</td>\n",
       "      <td>110.0</td>\n",
       "      <td>manual</td>\n",
       "      <td>22700</td>\n",
       "      <td>Mollet del Vallès</td>\n",
       "      <td>8100</td>\n",
       "      <td>Barcelona</td>\n",
       "      <td>Mollet del Vallès</td>\n",
       "    </tr>\n",
       "  </tbody>\n",
       "</table>\n",
       "</div>"
      ],
      "text/plain": [
       "   make      model      fuel      kms  power      shift  price  \\\n",
       "0  Opel  Crossland  Gasolina      5.0  110.0     manual  22900   \n",
       "1  Opel  Crossland  Gasolina  24847.0  110.0     manual  19990   \n",
       "2  Opel  Crossland    Diésel  41356.0  120.0  automatic  18590   \n",
       "3  Opel  Crossland  Gasolina     11.0  110.0     manual  22700   \n",
       "4  Opel  Crossland  Gasolina     11.0  110.0     manual  22700   \n",
       "\n",
       "            location  codigopostalid  provincia          poblacion  \n",
       "0      Pineda de Mar            8397  Barcelona      Pineda de Mar  \n",
       "1            Coslada           28823     Madrid            Coslada  \n",
       "2             Madrid           28021     Madrid             Madrid  \n",
       "3           Sabadell            8201  Barcelona           Sabadell  \n",
       "4  Mollet del Vallès            8100  Barcelona  Mollet del Vallès  "
      ]
     },
     "execution_count": 6,
     "metadata": {},
     "output_type": "execute_result"
    }
   ],
   "source": [
    "df_provincia.head()"
   ]
  },
  {
   "cell_type": "code",
   "execution_count": 7,
   "id": "1b90c6ae",
   "metadata": {},
   "outputs": [
    {
     "data": {
      "text/plain": [
       "Madrid                                 5135\n",
       "Barcelona                              4488\n",
       "Vigo                                   3519\n",
       "Sevilla                                3411\n",
       "Murcia                                 3358\n",
       "                                       ... \n",
       "Baeza                                     1\n",
       "Foz                                       1\n",
       "Residencia Nuestra Señora del Pilar       1\n",
       "Orio                                      1\n",
       "El Saucejo                                1\n",
       "Name: location, Length: 669, dtype: int64"
      ]
     },
     "execution_count": 7,
     "metadata": {},
     "output_type": "execute_result"
    }
   ],
   "source": [
    "df.location.value_counts()"
   ]
  },
  {
   "cell_type": "markdown",
   "id": "b09c9271",
   "metadata": {},
   "source": [
    "Conclusion tras ver duplicados, nulos, etc, quitamos las siguientes columnas:"
   ]
  },
  {
   "cell_type": "code",
   "execution_count": 8,
   "id": "77e72ba7",
   "metadata": {},
   "outputs": [],
   "source": [
    "df = df.drop(['vehicle_type','dealer_country_code','dealer_is_professional','color','description','currency','dealer_zip_code','dealer_address','doors','dealer_description','update_date','dealer_registered_at','date','version','dealer_website','photos','dealer_name','dealer_city','publish_date'], axis = 1)"
   ]
  },
  {
   "cell_type": "markdown",
   "id": "086c7086",
   "metadata": {},
   "source": [
    "Ahora quitamos duplicados:"
   ]
  },
  {
   "cell_type": "code",
   "execution_count": 9,
   "id": "bb4a0f06",
   "metadata": {},
   "outputs": [
    {
     "data": {
      "text/plain": [
       "(100000, 9)"
      ]
     },
     "execution_count": 9,
     "metadata": {},
     "output_type": "execute_result"
    }
   ],
   "source": [
    "df.shape"
   ]
  },
  {
   "cell_type": "code",
   "execution_count": 10,
   "id": "163fa345",
   "metadata": {},
   "outputs": [],
   "source": [
    "df = df.drop_duplicates()"
   ]
  },
  {
   "cell_type": "markdown",
   "id": "380d3248",
   "metadata": {},
   "source": [
    "Descubrimos que prácticamente la mitad de nuestro dataframe son duplicados:"
   ]
  },
  {
   "cell_type": "code",
   "execution_count": 11,
   "id": "19c6cde6",
   "metadata": {},
   "outputs": [
    {
     "data": {
      "text/plain": [
       "(41764, 9)"
      ]
     },
     "execution_count": 11,
     "metadata": {},
     "output_type": "execute_result"
    }
   ],
   "source": [
    "df.shape"
   ]
  },
  {
   "cell_type": "markdown",
   "id": "c2adef9c",
   "metadata": {},
   "source": [
    "Quitamos los nulos"
   ]
  },
  {
   "cell_type": "code",
   "execution_count": 12,
   "id": "d2bde30f",
   "metadata": {},
   "outputs": [
    {
     "data": {
      "text/plain": [
       "(39648, 9)"
      ]
     },
     "execution_count": 12,
     "metadata": {},
     "output_type": "execute_result"
    }
   ],
   "source": [
    "df = df.dropna()\n",
    "df.shape"
   ]
  },
  {
   "cell_type": "markdown",
   "id": "5274406f",
   "metadata": {},
   "source": [
    "Unimos los dos Data Frame"
   ]
  },
  {
   "cell_type": "code",
   "execution_count": 13,
   "id": "f3265dc4",
   "metadata": {},
   "outputs": [],
   "source": [
    "loc2cp = df_provincia[['location','codigopostalid']].set_index('location').to_dict()['codigopostalid']\n",
    "loc2provincia = df_provincia[['location','provincia']].set_index('location').to_dict()['provincia']"
   ]
  },
  {
   "cell_type": "code",
   "execution_count": 14,
   "id": "4c131131",
   "metadata": {},
   "outputs": [],
   "source": [
    "df['cp'] = df.location.map(loc2cp)\n",
    "df['provincia'] = df.location.map(loc2provincia)"
   ]
  },
  {
   "cell_type": "code",
   "execution_count": 15,
   "id": "e604fb01",
   "metadata": {},
   "outputs": [
    {
     "data": {
      "text/plain": [
       "1452"
      ]
     },
     "execution_count": 15,
     "metadata": {},
     "output_type": "execute_result"
    }
   ],
   "source": [
    "df['provincia'].isna().sum()"
   ]
  },
  {
   "cell_type": "code",
   "execution_count": 16,
   "id": "930baff4",
   "metadata": {},
   "outputs": [
    {
     "data": {
      "text/plain": [
       "make            0\n",
       "model           0\n",
       "fuel            0\n",
       "year            0\n",
       "kms             0\n",
       "power           0\n",
       "shift           0\n",
       "price           0\n",
       "location        0\n",
       "cp           1452\n",
       "provincia    1452\n",
       "dtype: int64"
      ]
     },
     "execution_count": 16,
     "metadata": {},
     "output_type": "execute_result"
    }
   ],
   "source": [
    "df.isna().sum()"
   ]
  },
  {
   "cell_type": "markdown",
   "id": "95174d37",
   "metadata": {},
   "source": [
    "Volvemos a quitar duplicados y vemos la forma final"
   ]
  },
  {
   "cell_type": "code",
   "execution_count": 17,
   "id": "62695e51",
   "metadata": {},
   "outputs": [
    {
     "data": {
      "text/plain": [
       "(38196, 11)"
      ]
     },
     "execution_count": 17,
     "metadata": {},
     "output_type": "execute_result"
    }
   ],
   "source": [
    "df = df.dropna()\n",
    "df.shape"
   ]
  },
  {
   "cell_type": "markdown",
   "id": "f214a0db",
   "metadata": {},
   "source": [
    "Creamos columna antiguedad"
   ]
  },
  {
   "cell_type": "code",
   "execution_count": 18,
   "id": "83251df4",
   "metadata": {},
   "outputs": [
    {
     "data": {
      "text/html": [
       "<div>\n",
       "<style scoped>\n",
       "    .dataframe tbody tr th:only-of-type {\n",
       "        vertical-align: middle;\n",
       "    }\n",
       "\n",
       "    .dataframe tbody tr th {\n",
       "        vertical-align: top;\n",
       "    }\n",
       "\n",
       "    .dataframe thead th {\n",
       "        text-align: right;\n",
       "    }\n",
       "</style>\n",
       "<table border=\"1\" class=\"dataframe\">\n",
       "  <thead>\n",
       "    <tr style=\"text-align: right;\">\n",
       "      <th></th>\n",
       "      <th>make</th>\n",
       "      <th>model</th>\n",
       "      <th>fuel</th>\n",
       "      <th>kms</th>\n",
       "      <th>power</th>\n",
       "      <th>shift</th>\n",
       "      <th>price</th>\n",
       "      <th>location</th>\n",
       "      <th>cp</th>\n",
       "      <th>provincia</th>\n",
       "      <th>antiguedad</th>\n",
       "    </tr>\n",
       "  </thead>\n",
       "  <tbody>\n",
       "    <tr>\n",
       "      <th>0</th>\n",
       "      <td>Opel</td>\n",
       "      <td>Crossland</td>\n",
       "      <td>Gasolina</td>\n",
       "      <td>5.0</td>\n",
       "      <td>110.0</td>\n",
       "      <td>manual</td>\n",
       "      <td>22900</td>\n",
       "      <td>Pineda de Mar</td>\n",
       "      <td>8397.0</td>\n",
       "      <td>Barcelona</td>\n",
       "      <td>1</td>\n",
       "    </tr>\n",
       "    <tr>\n",
       "      <th>1</th>\n",
       "      <td>Opel</td>\n",
       "      <td>Crossland</td>\n",
       "      <td>Gasolina</td>\n",
       "      <td>24847.0</td>\n",
       "      <td>110.0</td>\n",
       "      <td>manual</td>\n",
       "      <td>19990</td>\n",
       "      <td>Coslada</td>\n",
       "      <td>28823.0</td>\n",
       "      <td>Madrid</td>\n",
       "      <td>1</td>\n",
       "    </tr>\n",
       "    <tr>\n",
       "      <th>2</th>\n",
       "      <td>Opel</td>\n",
       "      <td>Crossland</td>\n",
       "      <td>Diésel</td>\n",
       "      <td>41356.0</td>\n",
       "      <td>120.0</td>\n",
       "      <td>automatic</td>\n",
       "      <td>18590</td>\n",
       "      <td>Madrid</td>\n",
       "      <td>28014.0</td>\n",
       "      <td>Madrid</td>\n",
       "      <td>2</td>\n",
       "    </tr>\n",
       "    <tr>\n",
       "      <th>3</th>\n",
       "      <td>Opel</td>\n",
       "      <td>Crossland</td>\n",
       "      <td>Gasolina</td>\n",
       "      <td>11.0</td>\n",
       "      <td>110.0</td>\n",
       "      <td>manual</td>\n",
       "      <td>22700</td>\n",
       "      <td>Sabadell</td>\n",
       "      <td>8203.0</td>\n",
       "      <td>Barcelona</td>\n",
       "      <td>1</td>\n",
       "    </tr>\n",
       "    <tr>\n",
       "      <th>4</th>\n",
       "      <td>Opel</td>\n",
       "      <td>Crossland</td>\n",
       "      <td>Gasolina</td>\n",
       "      <td>11.0</td>\n",
       "      <td>110.0</td>\n",
       "      <td>manual</td>\n",
       "      <td>22700</td>\n",
       "      <td>Mollet del Vallès</td>\n",
       "      <td>8100.0</td>\n",
       "      <td>Barcelona</td>\n",
       "      <td>1</td>\n",
       "    </tr>\n",
       "    <tr>\n",
       "      <th>...</th>\n",
       "      <td>...</td>\n",
       "      <td>...</td>\n",
       "      <td>...</td>\n",
       "      <td>...</td>\n",
       "      <td>...</td>\n",
       "      <td>...</td>\n",
       "      <td>...</td>\n",
       "      <td>...</td>\n",
       "      <td>...</td>\n",
       "      <td>...</td>\n",
       "      <td>...</td>\n",
       "    </tr>\n",
       "    <tr>\n",
       "      <th>99990</th>\n",
       "      <td>Citroen</td>\n",
       "      <td>C4 Picasso</td>\n",
       "      <td>Diésel</td>\n",
       "      <td>148527.0</td>\n",
       "      <td>150.0</td>\n",
       "      <td>manual</td>\n",
       "      <td>13310</td>\n",
       "      <td>Granollers</td>\n",
       "      <td>8403.0</td>\n",
       "      <td>Barcelona</td>\n",
       "      <td>8</td>\n",
       "    </tr>\n",
       "    <tr>\n",
       "      <th>99992</th>\n",
       "      <td>Citroen</td>\n",
       "      <td>C4 Picasso</td>\n",
       "      <td>Diésel</td>\n",
       "      <td>148527.0</td>\n",
       "      <td>150.0</td>\n",
       "      <td>manual</td>\n",
       "      <td>13310</td>\n",
       "      <td>Estepona</td>\n",
       "      <td>29680.0</td>\n",
       "      <td>Málaga</td>\n",
       "      <td>8</td>\n",
       "    </tr>\n",
       "    <tr>\n",
       "      <th>99994</th>\n",
       "      <td>Citroen</td>\n",
       "      <td>C4 Picasso</td>\n",
       "      <td>Diésel</td>\n",
       "      <td>148527.0</td>\n",
       "      <td>150.0</td>\n",
       "      <td>manual</td>\n",
       "      <td>13310</td>\n",
       "      <td>Saladar</td>\n",
       "      <td>3700.0</td>\n",
       "      <td>Alicante</td>\n",
       "      <td>8</td>\n",
       "    </tr>\n",
       "    <tr>\n",
       "      <th>99996</th>\n",
       "      <td>Citroen</td>\n",
       "      <td>C4 Picasso</td>\n",
       "      <td>Diésel</td>\n",
       "      <td>173035.0</td>\n",
       "      <td>111.0</td>\n",
       "      <td>automatic</td>\n",
       "      <td>9290</td>\n",
       "      <td>Valencia</td>\n",
       "      <td>46002.0</td>\n",
       "      <td>Valencia</td>\n",
       "      <td>10</td>\n",
       "    </tr>\n",
       "    <tr>\n",
       "      <th>99998</th>\n",
       "      <td>Citroen</td>\n",
       "      <td>C4 Picasso</td>\n",
       "      <td>Diésel</td>\n",
       "      <td>178131.0</td>\n",
       "      <td>110.0</td>\n",
       "      <td>manual</td>\n",
       "      <td>7950</td>\n",
       "      <td>Valencia</td>\n",
       "      <td>46002.0</td>\n",
       "      <td>Valencia</td>\n",
       "      <td>11</td>\n",
       "    </tr>\n",
       "  </tbody>\n",
       "</table>\n",
       "<p>38196 rows × 11 columns</p>\n",
       "</div>"
      ],
      "text/plain": [
       "          make       model      fuel       kms  power      shift  price  \\\n",
       "0         Opel   Crossland  Gasolina       5.0  110.0     manual  22900   \n",
       "1         Opel   Crossland  Gasolina   24847.0  110.0     manual  19990   \n",
       "2         Opel   Crossland    Diésel   41356.0  120.0  automatic  18590   \n",
       "3         Opel   Crossland  Gasolina      11.0  110.0     manual  22700   \n",
       "4         Opel   Crossland  Gasolina      11.0  110.0     manual  22700   \n",
       "...        ...         ...       ...       ...    ...        ...    ...   \n",
       "99990  Citroen  C4 Picasso    Diésel  148527.0  150.0     manual  13310   \n",
       "99992  Citroen  C4 Picasso    Diésel  148527.0  150.0     manual  13310   \n",
       "99994  Citroen  C4 Picasso    Diésel  148527.0  150.0     manual  13310   \n",
       "99996  Citroen  C4 Picasso    Diésel  173035.0  111.0  automatic   9290   \n",
       "99998  Citroen  C4 Picasso    Diésel  178131.0  110.0     manual   7950   \n",
       "\n",
       "                location       cp  provincia  antiguedad  \n",
       "0          Pineda de Mar   8397.0  Barcelona           1  \n",
       "1                Coslada  28823.0     Madrid           1  \n",
       "2                 Madrid  28014.0     Madrid           2  \n",
       "3               Sabadell   8203.0  Barcelona           1  \n",
       "4      Mollet del Vallès   8100.0  Barcelona           1  \n",
       "...                  ...      ...        ...         ...  \n",
       "99990         Granollers   8403.0  Barcelona           8  \n",
       "99992           Estepona  29680.0     Málaga           8  \n",
       "99994            Saladar   3700.0   Alicante           8  \n",
       "99996           Valencia  46002.0   Valencia          10  \n",
       "99998           Valencia  46002.0   Valencia          11  \n",
       "\n",
       "[38196 rows x 11 columns]"
      ]
     },
     "execution_count": 18,
     "metadata": {},
     "output_type": "execute_result"
    }
   ],
   "source": [
    "df['antiguedad'] = (2023 - df['year'])\n",
    "df = df.drop(['year'], axis = 1)\n",
    "df"
   ]
  },
  {
   "cell_type": "markdown",
   "id": "45941dd8",
   "metadata": {},
   "source": [
    "Hacemos un plot mostrando las distintas features"
   ]
  },
  {
   "cell_type": "code",
   "execution_count": 19,
   "id": "b4587daf",
   "metadata": {},
   "outputs": [
    {
     "data": {
      "image/png": "[encoded data removed]",
      "text/plain": [
       "<Figure size 1500x700 with 6 Axes>"
      ]
     },
     "metadata": {},
     "output_type": "display_data"
    }
   ],
   "source": [
    "df.hist(figsize=(15, 7), bins=80)\n",
    "plt.show()"
   ]
  },
  {
   "cell_type": "markdown",
   "id": "d0789784",
   "metadata": {},
   "source": [
    "#### Examinamos la distribución de datos precio "
   ]
  },
  {
   "cell_type": "code",
   "execution_count": 20,
   "id": "319a5c0a",
   "metadata": {},
   "outputs": [
    {
     "data": {
      "text/plain": [
       "Text(0.5, 0, 'Precio en escala logaritmica')"
      ]
     },
     "execution_count": 20,
     "metadata": {},
     "output_type": "execute_result"
    },
    {
     "data": {
      "image/png": "[encoded data removed]",
      "text/plain": [
       "<Figure size 640x480 with 1 Axes>"
      ]
     },
     "metadata": {},
     "output_type": "display_data"
    }
   ],
   "source": [
    "np.log(df.price + 1).hist(bins = 30)\n",
    "plt.axvline(x=6.9, color='g', linestyle='--')\n",
    "plt.axvline(x=13.12, color='g', linestyle='--')\n",
    "plt.axvline(x=6.7, color='r', linestyle='--')\n",
    "plt.axvline(x=5, color='r', linestyle='--')\n",
    "plt.ylabel('Frecuencia')\n",
    "plt.xlabel('Precio en escala logaritmica')"
   ]
  },
  {
   "cell_type": "markdown",
   "id": "288c55e5",
   "metadata": {},
   "source": [
    "Al realizar la distribución logarítmica del precio descubrimos dos agrupaciones en nuestra distribución, gracias a nuestro análisis anterior sabemos que la agrupacion de la izquierda es consecuencia de precios inusualmente bajos en relación al precio de venta de un coche de segunda mano habitual, concluimos que los coches dentro de este ranfgo de precio se destinan a la venta para piezas y desguace. Por ello encontramos pertinente aislarla del conjunto de datos usado en el análisis. \n",
    "\n",
    "Los puntos que usamos para separar estas agrupaciones coinciden los límites de la agrupación, con un valor de:"
   ]
  },
  {
   "cell_type": "code",
   "execution_count": 21,
   "id": "c6bd7b92",
   "metadata": {},
   "outputs": [
    {
     "name": "stdout",
     "output_type": "stream",
     "text": [
      "(992.2747156050262, 498819.7065866096)\n"
     ]
    }
   ],
   "source": [
    "print(f'({np.exp(6.9)}, {np.exp(13.12)})')"
   ]
  },
  {
   "cell_type": "markdown",
   "id": "d7640ce1",
   "metadata": {},
   "source": [
    "#### Escalamos logaritmicamente la distribución de los precios "
   ]
  },
  {
   "cell_type": "code",
   "execution_count": 22,
   "id": "7cbed644",
   "metadata": {},
   "outputs": [
    {
     "data": {
      "text/plain": [
       "(19492.421274479002, 498000)"
      ]
     },
     "execution_count": 22,
     "metadata": {},
     "output_type": "execute_result"
    }
   ],
   "source": [
    "df.price.mean(),df.price.max()"
   ]
  },
  {
   "cell_type": "code",
   "execution_count": 23,
   "id": "e7bc0e1d",
   "metadata": {},
   "outputs": [],
   "source": [
    "coches_out=df[df['price'] > 100000]"
   ]
  },
  {
   "cell_type": "code",
   "execution_count": 24,
   "id": "84088828",
   "metadata": {
    "scrolled": true
   },
   "outputs": [
    {
     "data": {
      "text/html": [
       "<div>\n",
       "<style scoped>\n",
       "    .dataframe tbody tr th:only-of-type {\n",
       "        vertical-align: middle;\n",
       "    }\n",
       "\n",
       "    .dataframe tbody tr th {\n",
       "        vertical-align: top;\n",
       "    }\n",
       "\n",
       "    .dataframe thead th {\n",
       "        text-align: right;\n",
       "    }\n",
       "</style>\n",
       "<table border=\"1\" class=\"dataframe\">\n",
       "  <thead>\n",
       "    <tr style=\"text-align: right;\">\n",
       "      <th></th>\n",
       "      <th>make</th>\n",
       "      <th>model</th>\n",
       "      <th>fuel</th>\n",
       "      <th>kms</th>\n",
       "      <th>power</th>\n",
       "      <th>shift</th>\n",
       "      <th>price</th>\n",
       "      <th>location</th>\n",
       "      <th>cp</th>\n",
       "      <th>provincia</th>\n",
       "      <th>antiguedad</th>\n",
       "    </tr>\n",
       "  </thead>\n",
       "  <tbody>\n",
       "    <tr>\n",
       "      <th>3975</th>\n",
       "      <td>Ferrari</td>\n",
       "      <td>458</td>\n",
       "      <td>Gasolina</td>\n",
       "      <td>40900.0</td>\n",
       "      <td>570.0</td>\n",
       "      <td>automatic</td>\n",
       "      <td>219900</td>\n",
       "      <td>Carretera de San Martin de La Vega</td>\n",
       "      <td>28320.0</td>\n",
       "      <td>Madrid</td>\n",
       "      <td>12</td>\n",
       "    </tr>\n",
       "    <tr>\n",
       "      <th>3979</th>\n",
       "      <td>Ferrari</td>\n",
       "      <td>458</td>\n",
       "      <td>Gasolina</td>\n",
       "      <td>97000.0</td>\n",
       "      <td>570.0</td>\n",
       "      <td>automatic</td>\n",
       "      <td>144999</td>\n",
       "      <td>San Sebastián de Los Reyes</td>\n",
       "      <td>28700.0</td>\n",
       "      <td>Madrid</td>\n",
       "      <td>12</td>\n",
       "    </tr>\n",
       "    <tr>\n",
       "      <th>3987</th>\n",
       "      <td>Ferrari</td>\n",
       "      <td>458</td>\n",
       "      <td>Gasolina</td>\n",
       "      <td>23542.0</td>\n",
       "      <td>570.0</td>\n",
       "      <td>automatic</td>\n",
       "      <td>185000</td>\n",
       "      <td>Colonia Pablo Iglesias</td>\n",
       "      <td>28520.0</td>\n",
       "      <td>Madrid</td>\n",
       "      <td>13</td>\n",
       "    </tr>\n",
       "    <tr>\n",
       "      <th>5000</th>\n",
       "      <td>Audi</td>\n",
       "      <td>SQ7</td>\n",
       "      <td>Diésel</td>\n",
       "      <td>41000.0</td>\n",
       "      <td>507.0</td>\n",
       "      <td>automatic</td>\n",
       "      <td>104900</td>\n",
       "      <td>Granollers</td>\n",
       "      <td>8403.0</td>\n",
       "      <td>Barcelona</td>\n",
       "      <td>2</td>\n",
       "    </tr>\n",
       "    <tr>\n",
       "      <th>5020</th>\n",
       "      <td>Audi</td>\n",
       "      <td>e-tron GT</td>\n",
       "      <td>Eléctrico</td>\n",
       "      <td>8000.0</td>\n",
       "      <td>476.0</td>\n",
       "      <td>automatic</td>\n",
       "      <td>107900</td>\n",
       "      <td>Málaga</td>\n",
       "      <td>29005.0</td>\n",
       "      <td>Málaga</td>\n",
       "      <td>2</td>\n",
       "    </tr>\n",
       "    <tr>\n",
       "      <th>...</th>\n",
       "      <td>...</td>\n",
       "      <td>...</td>\n",
       "      <td>...</td>\n",
       "      <td>...</td>\n",
       "      <td>...</td>\n",
       "      <td>...</td>\n",
       "      <td>...</td>\n",
       "      <td>...</td>\n",
       "      <td>...</td>\n",
       "      <td>...</td>\n",
       "      <td>...</td>\n",
       "    </tr>\n",
       "    <tr>\n",
       "      <th>61388</th>\n",
       "      <td>Porsche</td>\n",
       "      <td>911</td>\n",
       "      <td>Gasolina</td>\n",
       "      <td>19000.0</td>\n",
       "      <td>450.0</td>\n",
       "      <td>automatic</td>\n",
       "      <td>144990</td>\n",
       "      <td>Granollers</td>\n",
       "      <td>8403.0</td>\n",
       "      <td>Barcelona</td>\n",
       "      <td>4</td>\n",
       "    </tr>\n",
       "    <tr>\n",
       "      <th>61401</th>\n",
       "      <td>Porsche</td>\n",
       "      <td>911</td>\n",
       "      <td>Gasolina</td>\n",
       "      <td>70.0</td>\n",
       "      <td>370.0</td>\n",
       "      <td>automatic</td>\n",
       "      <td>320000</td>\n",
       "      <td>Marbella</td>\n",
       "      <td>29601.0</td>\n",
       "      <td>Málaga</td>\n",
       "      <td>6</td>\n",
       "    </tr>\n",
       "    <tr>\n",
       "      <th>61412</th>\n",
       "      <td>Porsche</td>\n",
       "      <td>911</td>\n",
       "      <td>Gasolina</td>\n",
       "      <td>58500.0</td>\n",
       "      <td>540.0</td>\n",
       "      <td>automatic</td>\n",
       "      <td>135900</td>\n",
       "      <td>Las Rozas de Madrid</td>\n",
       "      <td>28232.0</td>\n",
       "      <td>Madrid</td>\n",
       "      <td>7</td>\n",
       "    </tr>\n",
       "    <tr>\n",
       "      <th>62969</th>\n",
       "      <td>Mercedes-Benz</td>\n",
       "      <td>Clase G</td>\n",
       "      <td>Gasolina</td>\n",
       "      <td>93000.0</td>\n",
       "      <td>571.0</td>\n",
       "      <td>automatic</td>\n",
       "      <td>115990</td>\n",
       "      <td>Marbella</td>\n",
       "      <td>29601.0</td>\n",
       "      <td>Málaga</td>\n",
       "      <td>6</td>\n",
       "    </tr>\n",
       "    <tr>\n",
       "      <th>83428</th>\n",
       "      <td>Audi</td>\n",
       "      <td>RS6</td>\n",
       "      <td>Gasolina</td>\n",
       "      <td>22800.0</td>\n",
       "      <td>600.0</td>\n",
       "      <td>automatic</td>\n",
       "      <td>138900</td>\n",
       "      <td>Córdoba</td>\n",
       "      <td>14003.0</td>\n",
       "      <td>Córdoba</td>\n",
       "      <td>2</td>\n",
       "    </tr>\n",
       "  </tbody>\n",
       "</table>\n",
       "<p>172 rows × 11 columns</p>\n",
       "</div>"
      ],
      "text/plain": [
       "                make      model       fuel      kms  power      shift   price  \\\n",
       "3975         Ferrari        458   Gasolina  40900.0  570.0  automatic  219900   \n",
       "3979         Ferrari        458   Gasolina  97000.0  570.0  automatic  144999   \n",
       "3987         Ferrari        458   Gasolina  23542.0  570.0  automatic  185000   \n",
       "5000            Audi        SQ7     Diésel  41000.0  507.0  automatic  104900   \n",
       "5020            Audi  e-tron GT  Eléctrico   8000.0  476.0  automatic  107900   \n",
       "...              ...        ...        ...      ...    ...        ...     ...   \n",
       "61388        Porsche        911   Gasolina  19000.0  450.0  automatic  144990   \n",
       "61401        Porsche        911   Gasolina     70.0  370.0  automatic  320000   \n",
       "61412        Porsche        911   Gasolina  58500.0  540.0  automatic  135900   \n",
       "62969  Mercedes-Benz    Clase G   Gasolina  93000.0  571.0  automatic  115990   \n",
       "83428           Audi        RS6   Gasolina  22800.0  600.0  automatic  138900   \n",
       "\n",
       "                                 location       cp  provincia  antiguedad  \n",
       "3975   Carretera de San Martin de La Vega  28320.0     Madrid          12  \n",
       "3979           San Sebastián de Los Reyes  28700.0     Madrid          12  \n",
       "3987               Colonia Pablo Iglesias  28520.0     Madrid          13  \n",
       "5000                           Granollers   8403.0  Barcelona           2  \n",
       "5020                               Málaga  29005.0     Málaga           2  \n",
       "...                                   ...      ...        ...         ...  \n",
       "61388                          Granollers   8403.0  Barcelona           4  \n",
       "61401                            Marbella  29601.0     Málaga           6  \n",
       "61412                 Las Rozas de Madrid  28232.0     Madrid           7  \n",
       "62969                            Marbella  29601.0     Málaga           6  \n",
       "83428                             Córdoba  14003.0    Córdoba           2  \n",
       "\n",
       "[172 rows x 11 columns]"
      ]
     },
     "execution_count": 24,
     "metadata": {},
     "output_type": "execute_result"
    }
   ],
   "source": [
    "coches_out"
   ]
  },
  {
   "cell_type": "markdown",
   "id": "55b0a18b",
   "metadata": {},
   "source": [
    "Borramos esas filas por tener precios mayores a 100000 "
   ]
  },
  {
   "cell_type": "code",
   "execution_count": 25,
   "id": "e54251c1",
   "metadata": {},
   "outputs": [],
   "source": [
    "indexCoches_out = df[df['price'] > 50000].index"
   ]
  },
  {
   "cell_type": "code",
   "execution_count": 26,
   "id": "37f31b16",
   "metadata": {},
   "outputs": [
    {
     "name": "stdout",
     "output_type": "stream",
     "text": [
      "<class 'pandas.core.indexes.numeric.Int64Index'>\n"
     ]
    }
   ],
   "source": [
    "print(type(indexCoches_out))"
   ]
  },
  {
   "cell_type": "code",
   "execution_count": 27,
   "id": "fb44f215",
   "metadata": {},
   "outputs": [],
   "source": [
    "df.drop(indexCoches_out , inplace=True)"
   ]
  },
  {
   "cell_type": "code",
   "execution_count": 28,
   "id": "2a929fcb",
   "metadata": {},
   "outputs": [
    {
     "data": {
      "text/plain": [
       "(36937, 11)"
      ]
     },
     "execution_count": 28,
     "metadata": {},
     "output_type": "execute_result"
    }
   ],
   "source": [
    "df.shape # 38196-172"
   ]
  },
  {
   "cell_type": "code",
   "execution_count": 29,
   "id": "1162a067",
   "metadata": {},
   "outputs": [],
   "source": [
    "df_escalado = df.copy()"
   ]
  },
  {
   "cell_type": "code",
   "execution_count": 30,
   "id": "48637f6b",
   "metadata": {},
   "outputs": [
    {
     "name": "stderr",
     "output_type": "stream",
     "text": [
      "C:\\Users\\User\\anaconda3\\lib\\site-packages\\pandas\\core\\arraylike.py:402: RuntimeWarning: divide by zero encountered in log\n",
      "  result = getattr(ufunc, method)(*inputs, **kwargs)\n"
     ]
    }
   ],
   "source": [
    "df_escalado['precio_escalado'] = np.log(df_escalado['price'])\n",
    "df_escalado = df_escalado.drop(['price'], axis =1)"
   ]
  },
  {
   "cell_type": "code",
   "execution_count": 31,
   "id": "754c7637",
   "metadata": {},
   "outputs": [
    {
     "name": "stdout",
     "output_type": "stream",
     "text": [
      "          make       model      fuel       kms  power      shift  \\\n",
      "0         Opel   Crossland  Gasolina       5.0  110.0     manual   \n",
      "1         Opel   Crossland  Gasolina   24847.0  110.0     manual   \n",
      "2         Opel   Crossland    Diésel   41356.0  120.0  automatic   \n",
      "3         Opel   Crossland  Gasolina      11.0  110.0     manual   \n",
      "4         Opel   Crossland  Gasolina      11.0  110.0     manual   \n",
      "...        ...         ...       ...       ...    ...        ...   \n",
      "99990  Citroen  C4 Picasso    Diésel  148527.0  150.0     manual   \n",
      "99992  Citroen  C4 Picasso    Diésel  148527.0  150.0     manual   \n",
      "99994  Citroen  C4 Picasso    Diésel  148527.0  150.0     manual   \n",
      "99996  Citroen  C4 Picasso    Diésel  173035.0  111.0  automatic   \n",
      "99998  Citroen  C4 Picasso    Diésel  178131.0  110.0     manual   \n",
      "\n",
      "                location       cp  provincia  antiguedad  precio_escalado  \n",
      "0          Pineda de Mar   8397.0  Barcelona           1        10.038892  \n",
      "1                Coslada  28823.0     Madrid           1         9.902987  \n",
      "2                 Madrid  28014.0     Madrid           2         9.830379  \n",
      "3               Sabadell   8203.0  Barcelona           1        10.030120  \n",
      "4      Mollet del Vallès   8100.0  Barcelona           1        10.030120  \n",
      "...                  ...      ...        ...         ...              ...  \n",
      "99990         Granollers   8403.0  Barcelona           8         9.496271  \n",
      "99992           Estepona  29680.0     Málaga           8         9.496271  \n",
      "99994            Saladar   3700.0   Alicante           8         9.496271  \n",
      "99996           Valencia  46002.0   Valencia          10         9.136694  \n",
      "99998           Valencia  46002.0   Valencia          11         8.980927  \n",
      "\n",
      "[36937 rows x 11 columns]\n"
     ]
    }
   ],
   "source": [
    "print(df_escalado)"
   ]
  },
  {
   "cell_type": "markdown",
   "id": "f0e317e8",
   "metadata": {},
   "source": [
    "#### Seleccionamos el conjunto acotado "
   ]
  },
  {
   "cell_type": "code",
   "execution_count": 32,
   "id": "ff9d7413",
   "metadata": {},
   "outputs": [
    {
     "data": {
      "text/html": [
       "<div>\n",
       "<style scoped>\n",
       "    .dataframe tbody tr th:only-of-type {\n",
       "        vertical-align: middle;\n",
       "    }\n",
       "\n",
       "    .dataframe tbody tr th {\n",
       "        vertical-align: top;\n",
       "    }\n",
       "\n",
       "    .dataframe thead th {\n",
       "        text-align: right;\n",
       "    }\n",
       "</style>\n",
       "<table border=\"1\" class=\"dataframe\">\n",
       "  <thead>\n",
       "    <tr style=\"text-align: right;\">\n",
       "      <th></th>\n",
       "      <th>make</th>\n",
       "      <th>model</th>\n",
       "      <th>fuel</th>\n",
       "      <th>kms</th>\n",
       "      <th>power</th>\n",
       "      <th>shift</th>\n",
       "      <th>location</th>\n",
       "      <th>cp</th>\n",
       "      <th>provincia</th>\n",
       "      <th>antiguedad</th>\n",
       "      <th>precio_escalado</th>\n",
       "    </tr>\n",
       "  </thead>\n",
       "  <tbody>\n",
       "    <tr>\n",
       "      <th>0</th>\n",
       "      <td>Opel</td>\n",
       "      <td>Crossland</td>\n",
       "      <td>Gasolina</td>\n",
       "      <td>5.0</td>\n",
       "      <td>110.0</td>\n",
       "      <td>manual</td>\n",
       "      <td>Pineda de Mar</td>\n",
       "      <td>8397.0</td>\n",
       "      <td>Barcelona</td>\n",
       "      <td>1</td>\n",
       "      <td>10.038892</td>\n",
       "    </tr>\n",
       "    <tr>\n",
       "      <th>1</th>\n",
       "      <td>Opel</td>\n",
       "      <td>Crossland</td>\n",
       "      <td>Gasolina</td>\n",
       "      <td>24847.0</td>\n",
       "      <td>110.0</td>\n",
       "      <td>manual</td>\n",
       "      <td>Coslada</td>\n",
       "      <td>28823.0</td>\n",
       "      <td>Madrid</td>\n",
       "      <td>1</td>\n",
       "      <td>9.902987</td>\n",
       "    </tr>\n",
       "    <tr>\n",
       "      <th>2</th>\n",
       "      <td>Opel</td>\n",
       "      <td>Crossland</td>\n",
       "      <td>Diésel</td>\n",
       "      <td>41356.0</td>\n",
       "      <td>120.0</td>\n",
       "      <td>automatic</td>\n",
       "      <td>Madrid</td>\n",
       "      <td>28014.0</td>\n",
       "      <td>Madrid</td>\n",
       "      <td>2</td>\n",
       "      <td>9.830379</td>\n",
       "    </tr>\n",
       "    <tr>\n",
       "      <th>3</th>\n",
       "      <td>Opel</td>\n",
       "      <td>Crossland</td>\n",
       "      <td>Gasolina</td>\n",
       "      <td>11.0</td>\n",
       "      <td>110.0</td>\n",
       "      <td>manual</td>\n",
       "      <td>Sabadell</td>\n",
       "      <td>8203.0</td>\n",
       "      <td>Barcelona</td>\n",
       "      <td>1</td>\n",
       "      <td>10.030120</td>\n",
       "    </tr>\n",
       "    <tr>\n",
       "      <th>4</th>\n",
       "      <td>Opel</td>\n",
       "      <td>Crossland</td>\n",
       "      <td>Gasolina</td>\n",
       "      <td>11.0</td>\n",
       "      <td>110.0</td>\n",
       "      <td>manual</td>\n",
       "      <td>Mollet del Vallès</td>\n",
       "      <td>8100.0</td>\n",
       "      <td>Barcelona</td>\n",
       "      <td>1</td>\n",
       "      <td>10.030120</td>\n",
       "    </tr>\n",
       "    <tr>\n",
       "      <th>...</th>\n",
       "      <td>...</td>\n",
       "      <td>...</td>\n",
       "      <td>...</td>\n",
       "      <td>...</td>\n",
       "      <td>...</td>\n",
       "      <td>...</td>\n",
       "      <td>...</td>\n",
       "      <td>...</td>\n",
       "      <td>...</td>\n",
       "      <td>...</td>\n",
       "      <td>...</td>\n",
       "    </tr>\n",
       "    <tr>\n",
       "      <th>99990</th>\n",
       "      <td>Citroen</td>\n",
       "      <td>C4 Picasso</td>\n",
       "      <td>Diésel</td>\n",
       "      <td>148527.0</td>\n",
       "      <td>150.0</td>\n",
       "      <td>manual</td>\n",
       "      <td>Granollers</td>\n",
       "      <td>8403.0</td>\n",
       "      <td>Barcelona</td>\n",
       "      <td>8</td>\n",
       "      <td>9.496271</td>\n",
       "    </tr>\n",
       "    <tr>\n",
       "      <th>99992</th>\n",
       "      <td>Citroen</td>\n",
       "      <td>C4 Picasso</td>\n",
       "      <td>Diésel</td>\n",
       "      <td>148527.0</td>\n",
       "      <td>150.0</td>\n",
       "      <td>manual</td>\n",
       "      <td>Estepona</td>\n",
       "      <td>29680.0</td>\n",
       "      <td>Málaga</td>\n",
       "      <td>8</td>\n",
       "      <td>9.496271</td>\n",
       "    </tr>\n",
       "    <tr>\n",
       "      <th>99994</th>\n",
       "      <td>Citroen</td>\n",
       "      <td>C4 Picasso</td>\n",
       "      <td>Diésel</td>\n",
       "      <td>148527.0</td>\n",
       "      <td>150.0</td>\n",
       "      <td>manual</td>\n",
       "      <td>Saladar</td>\n",
       "      <td>3700.0</td>\n",
       "      <td>Alicante</td>\n",
       "      <td>8</td>\n",
       "      <td>9.496271</td>\n",
       "    </tr>\n",
       "    <tr>\n",
       "      <th>99996</th>\n",
       "      <td>Citroen</td>\n",
       "      <td>C4 Picasso</td>\n",
       "      <td>Diésel</td>\n",
       "      <td>173035.0</td>\n",
       "      <td>111.0</td>\n",
       "      <td>automatic</td>\n",
       "      <td>Valencia</td>\n",
       "      <td>46002.0</td>\n",
       "      <td>Valencia</td>\n",
       "      <td>10</td>\n",
       "      <td>9.136694</td>\n",
       "    </tr>\n",
       "    <tr>\n",
       "      <th>99998</th>\n",
       "      <td>Citroen</td>\n",
       "      <td>C4 Picasso</td>\n",
       "      <td>Diésel</td>\n",
       "      <td>178131.0</td>\n",
       "      <td>110.0</td>\n",
       "      <td>manual</td>\n",
       "      <td>Valencia</td>\n",
       "      <td>46002.0</td>\n",
       "      <td>Valencia</td>\n",
       "      <td>11</td>\n",
       "      <td>8.980927</td>\n",
       "    </tr>\n",
       "  </tbody>\n",
       "</table>\n",
       "<p>36015 rows × 11 columns</p>\n",
       "</div>"
      ],
      "text/plain": [
       "          make       model      fuel       kms  power      shift  \\\n",
       "0         Opel   Crossland  Gasolina       5.0  110.0     manual   \n",
       "1         Opel   Crossland  Gasolina   24847.0  110.0     manual   \n",
       "2         Opel   Crossland    Diésel   41356.0  120.0  automatic   \n",
       "3         Opel   Crossland  Gasolina      11.0  110.0     manual   \n",
       "4         Opel   Crossland  Gasolina      11.0  110.0     manual   \n",
       "...        ...         ...       ...       ...    ...        ...   \n",
       "99990  Citroen  C4 Picasso    Diésel  148527.0  150.0     manual   \n",
       "99992  Citroen  C4 Picasso    Diésel  148527.0  150.0     manual   \n",
       "99994  Citroen  C4 Picasso    Diésel  148527.0  150.0     manual   \n",
       "99996  Citroen  C4 Picasso    Diésel  173035.0  111.0  automatic   \n",
       "99998  Citroen  C4 Picasso    Diésel  178131.0  110.0     manual   \n",
       "\n",
       "                location       cp  provincia  antiguedad  precio_escalado  \n",
       "0          Pineda de Mar   8397.0  Barcelona           1        10.038892  \n",
       "1                Coslada  28823.0     Madrid           1         9.902987  \n",
       "2                 Madrid  28014.0     Madrid           2         9.830379  \n",
       "3               Sabadell   8203.0  Barcelona           1        10.030120  \n",
       "4      Mollet del Vallès   8100.0  Barcelona           1        10.030120  \n",
       "...                  ...      ...        ...         ...              ...  \n",
       "99990         Granollers   8403.0  Barcelona           8         9.496271  \n",
       "99992           Estepona  29680.0     Málaga           8         9.496271  \n",
       "99994            Saladar   3700.0   Alicante           8         9.496271  \n",
       "99996           Valencia  46002.0   Valencia          10         9.136694  \n",
       "99998           Valencia  46002.0   Valencia          11         8.980927  \n",
       "\n",
       "[36015 rows x 11 columns]"
      ]
     },
     "execution_count": 32,
     "metadata": {},
     "output_type": "execute_result"
    }
   ],
   "source": [
    "df_acotado = df_escalado[(df_escalado['precio_escalado'] < 13.12) & (df_escalado['precio_escalado'] > 6.9)]\n",
    "\n",
    "df_acotado"
   ]
  },
  {
   "cell_type": "code",
   "execution_count": 33,
   "id": "d77bb78f",
   "metadata": {},
   "outputs": [
    {
     "data": {
      "text/html": [
       "<div>\n",
       "<style scoped>\n",
       "    .dataframe tbody tr th:only-of-type {\n",
       "        vertical-align: middle;\n",
       "    }\n",
       "\n",
       "    .dataframe tbody tr th {\n",
       "        vertical-align: top;\n",
       "    }\n",
       "\n",
       "    .dataframe thead th {\n",
       "        text-align: right;\n",
       "    }\n",
       "</style>\n",
       "<table border=\"1\" class=\"dataframe\">\n",
       "  <thead>\n",
       "    <tr style=\"text-align: right;\">\n",
       "      <th></th>\n",
       "      <th>make</th>\n",
       "      <th>model</th>\n",
       "      <th>fuel</th>\n",
       "      <th>kms</th>\n",
       "      <th>power</th>\n",
       "      <th>shift</th>\n",
       "      <th>location</th>\n",
       "      <th>cp</th>\n",
       "      <th>provincia</th>\n",
       "      <th>antiguedad</th>\n",
       "      <th>precio_escalado</th>\n",
       "    </tr>\n",
       "  </thead>\n",
       "  <tbody>\n",
       "  </tbody>\n",
       "</table>\n",
       "</div>"
      ],
      "text/plain": [
       "Empty DataFrame\n",
       "Columns: [make, model, fuel, kms, power, shift, location, cp, provincia, antiguedad, precio_escalado]\n",
       "Index: []"
      ]
     },
     "execution_count": 33,
     "metadata": {},
     "output_type": "execute_result"
    }
   ],
   "source": [
    "df_escalado[df_escalado['precio_escalado'] > 13.2]"
   ]
  },
  {
   "cell_type": "markdown",
   "id": "f9fc0008",
   "metadata": {},
   "source": [
    "#### Introducimos valores numericos como etiquetas"
   ]
  },
  {
   "cell_type": "code",
   "execution_count": 34,
   "id": "9502dd82",
   "metadata": {},
   "outputs": [
    {
     "data": {
      "text/plain": [
       "4"
      ]
     },
     "execution_count": 34,
     "metadata": {},
     "output_type": "execute_result"
    }
   ],
   "source": [
    "df_acotado.fuel.nunique()"
   ]
  },
  {
   "cell_type": "code",
   "execution_count": 35,
   "id": "0f7f0b9b",
   "metadata": {},
   "outputs": [
    {
     "name": "stderr",
     "output_type": "stream",
     "text": [
      "C:\\Users\\User\\AppData\\Local\\Temp\\ipykernel_17828\\288593387.py:1: SettingWithCopyWarning: \n",
      "A value is trying to be set on a copy of a slice from a DataFrame.\n",
      "Try using .loc[row_indexer,col_indexer] = value instead\n",
      "\n",
      "See the caveats in the documentation: https://pandas.pydata.org/pandas-docs/stable/user_guide/indexing.html#returning-a-view-versus-a-copy\n",
      "  df_acotado[\"shift\"] = df_acotado[\"shift\"].replace({'manual': 1, 'automatic': 0})\n",
      "C:\\Users\\User\\AppData\\Local\\Temp\\ipykernel_17828\\288593387.py:2: SettingWithCopyWarning: \n",
      "A value is trying to be set on a copy of a slice from a DataFrame.\n",
      "Try using .loc[row_indexer,col_indexer] = value instead\n",
      "\n",
      "See the caveats in the documentation: https://pandas.pydata.org/pandas-docs/stable/user_guide/indexing.html#returning-a-view-versus-a-copy\n",
      "  df_acotado[\"fuel\"] = df_acotado[\"fuel\"].replace({'Gasolina': 0, 'Diésel': 1, 'Eléctrico': 2, 'Otros': 3})\n"
     ]
    }
   ],
   "source": [
    "df_acotado[\"shift\"] = df_acotado[\"shift\"].replace({'manual': 1, 'automatic': 0})\n",
    "df_acotado[\"fuel\"] = df_acotado[\"fuel\"].replace({'Gasolina': 0, 'Diésel': 1, 'Eléctrico': 2, 'Otros': 3})"
   ]
  },
  {
   "cell_type": "markdown",
   "id": "edacd6f4",
   "metadata": {},
   "source": [
    "#### Hacemos una tabla de correlación  "
   ]
  },
  {
   "cell_type": "code",
   "execution_count": 36,
   "id": "33446b3c",
   "metadata": {},
   "outputs": [
    {
     "data": {
      "text/html": [
       "<style type=\"text/css\">\n",
       "#T_949ff_row0_col0, #T_949ff_row1_col1, #T_949ff_row2_col2, #T_949ff_row3_col3, #T_949ff_row4_col4, #T_949ff_row5_col5, #T_949ff_row6_col6 {\n",
       "  background-color: #00441b;\n",
       "  color: #f1f1f1;\n",
       "}\n",
       "#T_949ff_row0_col1 {\n",
       "  background-color: #83cb82;\n",
       "  color: #000000;\n",
       "}\n",
       "#T_949ff_row0_col2 {\n",
       "  background-color: #f5fbf2;\n",
       "  color: #000000;\n",
       "}\n",
       "#T_949ff_row0_col3 {\n",
       "  background-color: #d8f0d2;\n",
       "  color: #000000;\n",
       "}\n",
       "#T_949ff_row0_col4, #T_949ff_row1_col2 {\n",
       "  background-color: #f1faee;\n",
       "  color: #000000;\n",
       "}\n",
       "#T_949ff_row0_col5, #T_949ff_row2_col5 {\n",
       "  background-color: #9bd696;\n",
       "  color: #000000;\n",
       "}\n",
       "#T_949ff_row0_col6 {\n",
       "  background-color: #8ace88;\n",
       "  color: #000000;\n",
       "}\n",
       "#T_949ff_row1_col0 {\n",
       "  background-color: #afdfa8;\n",
       "  color: #000000;\n",
       "}\n",
       "#T_949ff_row1_col3 {\n",
       "  background-color: #bee5b8;\n",
       "  color: #000000;\n",
       "}\n",
       "#T_949ff_row1_col4, #T_949ff_row5_col2 {\n",
       "  background-color: #f0f9ed;\n",
       "  color: #000000;\n",
       "}\n",
       "#T_949ff_row1_col5 {\n",
       "  background-color: #218944;\n",
       "  color: #f1f1f1;\n",
       "}\n",
       "#T_949ff_row1_col6 {\n",
       "  background-color: #e9f7e5;\n",
       "  color: #000000;\n",
       "}\n",
       "#T_949ff_row2_col0 {\n",
       "  background-color: #e2f4dd;\n",
       "  color: #000000;\n",
       "}\n",
       "#T_949ff_row2_col1 {\n",
       "  background-color: #b2e0ac;\n",
       "  color: #000000;\n",
       "}\n",
       "#T_949ff_row2_col3 {\n",
       "  background-color: #bde5b6;\n",
       "  color: #000000;\n",
       "}\n",
       "#T_949ff_row2_col4, #T_949ff_row4_col2 {\n",
       "  background-color: #f5fbf3;\n",
       "  color: #000000;\n",
       "}\n",
       "#T_949ff_row2_col6, #T_949ff_row4_col5 {\n",
       "  background-color: #a0d99b;\n",
       "  color: #000000;\n",
       "}\n",
       "#T_949ff_row3_col0, #T_949ff_row3_col2, #T_949ff_row5_col6, #T_949ff_row6_col1, #T_949ff_row6_col3, #T_949ff_row6_col4, #T_949ff_row6_col5 {\n",
       "  background-color: #f7fcf5;\n",
       "  color: #000000;\n",
       "}\n",
       "#T_949ff_row3_col1 {\n",
       "  background-color: #bce4b5;\n",
       "  color: #000000;\n",
       "}\n",
       "#T_949ff_row3_col4, #T_949ff_row5_col4, #T_949ff_row6_col2 {\n",
       "  background-color: #f4fbf1;\n",
       "  color: #000000;\n",
       "}\n",
       "#T_949ff_row3_col5 {\n",
       "  background-color: #9cd797;\n",
       "  color: #000000;\n",
       "}\n",
       "#T_949ff_row3_col6 {\n",
       "  background-color: #e8f6e3;\n",
       "  color: #000000;\n",
       "}\n",
       "#T_949ff_row4_col0 {\n",
       "  background-color: #ddf2d8;\n",
       "  color: #000000;\n",
       "}\n",
       "#T_949ff_row4_col1 {\n",
       "  background-color: #b1e0ab;\n",
       "  color: #000000;\n",
       "}\n",
       "#T_949ff_row4_col3 {\n",
       "  background-color: #b8e3b2;\n",
       "  color: #000000;\n",
       "}\n",
       "#T_949ff_row4_col6 {\n",
       "  background-color: #a5db9f;\n",
       "  color: #000000;\n",
       "}\n",
       "#T_949ff_row5_col0 {\n",
       "  background-color: #dcf2d7;\n",
       "  color: #000000;\n",
       "}\n",
       "#T_949ff_row5_col1 {\n",
       "  background-color: #289049;\n",
       "  color: #f1f1f1;\n",
       "}\n",
       "#T_949ff_row5_col3 {\n",
       "  background-color: #b4e1ad;\n",
       "  color: #000000;\n",
       "}\n",
       "#T_949ff_row6_col0 {\n",
       "  background-color: #ccebc6;\n",
       "  color: #000000;\n",
       "}\n",
       "</style>\n",
       "<table id=\"T_949ff\">\n",
       "  <thead>\n",
       "    <tr>\n",
       "      <th class=\"blank level0\" >&nbsp;</th>\n",
       "      <th id=\"T_949ff_level0_col0\" class=\"col_heading level0 col0\" >fuel</th>\n",
       "      <th id=\"T_949ff_level0_col1\" class=\"col_heading level0 col1\" >kms</th>\n",
       "      <th id=\"T_949ff_level0_col2\" class=\"col_heading level0 col2\" >power</th>\n",
       "      <th id=\"T_949ff_level0_col3\" class=\"col_heading level0 col3\" >shift</th>\n",
       "      <th id=\"T_949ff_level0_col4\" class=\"col_heading level0 col4\" >cp</th>\n",
       "      <th id=\"T_949ff_level0_col5\" class=\"col_heading level0 col5\" >antiguedad</th>\n",
       "      <th id=\"T_949ff_level0_col6\" class=\"col_heading level0 col6\" >precio_escalado</th>\n",
       "    </tr>\n",
       "  </thead>\n",
       "  <tbody>\n",
       "    <tr>\n",
       "      <th id=\"T_949ff_level0_row0\" class=\"row_heading level0 row0\" >fuel</th>\n",
       "      <td id=\"T_949ff_row0_col0\" class=\"data row0 col0\" >1.000</td>\n",
       "      <td id=\"T_949ff_row0_col1\" class=\"data row0 col1\" >0.221</td>\n",
       "      <td id=\"T_949ff_row0_col2\" class=\"data row0 col2\" >-0.005</td>\n",
       "      <td id=\"T_949ff_row0_col3\" class=\"data row0 col3\" >-0.165</td>\n",
       "      <td id=\"T_949ff_row0_col4\" class=\"data row0 col4\" >0.018</td>\n",
       "      <td id=\"T_949ff_row0_col5\" class=\"data row0 col5\" >0.026</td>\n",
       "      <td id=\"T_949ff_row0_col6\" class=\"data row0 col6\" >0.103</td>\n",
       "    </tr>\n",
       "    <tr>\n",
       "      <th id=\"T_949ff_level0_row1\" class=\"row_heading level0 row1\" >kms</th>\n",
       "      <td id=\"T_949ff_row1_col0\" class=\"data row1 col0\" >0.221</td>\n",
       "      <td id=\"T_949ff_row1_col1\" class=\"data row1 col1\" >1.000</td>\n",
       "      <td id=\"T_949ff_row1_col2\" class=\"data row1 col2\" >0.019</td>\n",
       "      <td id=\"T_949ff_row1_col3\" class=\"data row1 col3\" >-0.027</td>\n",
       "      <td id=\"T_949ff_row1_col4\" class=\"data row1 col4\" >0.027</td>\n",
       "      <td id=\"T_949ff_row1_col5\" class=\"data row1 col5\" >0.608</td>\n",
       "      <td id=\"T_949ff_row1_col6\" class=\"data row1 col6\" >-0.438</td>\n",
       "    </tr>\n",
       "    <tr>\n",
       "      <th id=\"T_949ff_level0_row2\" class=\"row_heading level0 row2\" >power</th>\n",
       "      <td id=\"T_949ff_row2_col0\" class=\"data row2 col0\" >-0.005</td>\n",
       "      <td id=\"T_949ff_row2_col1\" class=\"data row2 col1\" >0.019</td>\n",
       "      <td id=\"T_949ff_row2_col2\" class=\"data row2 col2\" >1.000</td>\n",
       "      <td id=\"T_949ff_row2_col3\" class=\"data row2 col3\" >-0.023</td>\n",
       "      <td id=\"T_949ff_row2_col4\" class=\"data row2 col4\" >-0.008</td>\n",
       "      <td id=\"T_949ff_row2_col5\" class=\"data row2 col5\" >0.026</td>\n",
       "      <td id=\"T_949ff_row2_col6\" class=\"data row2 col6\" >0.004</td>\n",
       "    </tr>\n",
       "    <tr>\n",
       "      <th id=\"T_949ff_level0_row3\" class=\"row_heading level0 row3\" >shift</th>\n",
       "      <td id=\"T_949ff_row3_col0\" class=\"data row3 col0\" >-0.165</td>\n",
       "      <td id=\"T_949ff_row3_col1\" class=\"data row3 col1\" >-0.027</td>\n",
       "      <td id=\"T_949ff_row3_col2\" class=\"data row3 col2\" >-0.023</td>\n",
       "      <td id=\"T_949ff_row3_col3\" class=\"data row3 col3\" >1.000</td>\n",
       "      <td id=\"T_949ff_row3_col4\" class=\"data row3 col4\" >0.003</td>\n",
       "      <td id=\"T_949ff_row3_col5\" class=\"data row3 col5\" >0.024</td>\n",
       "      <td id=\"T_949ff_row3_col6\" class=\"data row3 col6\" >-0.426</td>\n",
       "    </tr>\n",
       "    <tr>\n",
       "      <th id=\"T_949ff_level0_row4\" class=\"row_heading level0 row4\" >cp</th>\n",
       "      <td id=\"T_949ff_row4_col0\" class=\"data row4 col0\" >0.018</td>\n",
       "      <td id=\"T_949ff_row4_col1\" class=\"data row4 col1\" >0.027</td>\n",
       "      <td id=\"T_949ff_row4_col2\" class=\"data row4 col2\" >-0.008</td>\n",
       "      <td id=\"T_949ff_row4_col3\" class=\"data row4 col3\" >0.003</td>\n",
       "      <td id=\"T_949ff_row4_col4\" class=\"data row4 col4\" >1.000</td>\n",
       "      <td id=\"T_949ff_row4_col5\" class=\"data row4 col5\" >0.001</td>\n",
       "      <td id=\"T_949ff_row4_col6\" class=\"data row4 col6\" >-0.024</td>\n",
       "    </tr>\n",
       "    <tr>\n",
       "      <th id=\"T_949ff_level0_row5\" class=\"row_heading level0 row5\" >antiguedad</th>\n",
       "      <td id=\"T_949ff_row5_col0\" class=\"data row5 col0\" >0.026</td>\n",
       "      <td id=\"T_949ff_row5_col1\" class=\"data row5 col1\" >0.608</td>\n",
       "      <td id=\"T_949ff_row5_col2\" class=\"data row5 col2\" >0.026</td>\n",
       "      <td id=\"T_949ff_row5_col3\" class=\"data row5 col3\" >0.024</td>\n",
       "      <td id=\"T_949ff_row5_col4\" class=\"data row5 col4\" >0.001</td>\n",
       "      <td id=\"T_949ff_row5_col5\" class=\"data row5 col5\" >1.000</td>\n",
       "      <td id=\"T_949ff_row5_col6\" class=\"data row5 col6\" >-0.600</td>\n",
       "    </tr>\n",
       "    <tr>\n",
       "      <th id=\"T_949ff_level0_row6\" class=\"row_heading level0 row6\" >precio_escalado</th>\n",
       "      <td id=\"T_949ff_row6_col0\" class=\"data row6 col0\" >0.103</td>\n",
       "      <td id=\"T_949ff_row6_col1\" class=\"data row6 col1\" >-0.438</td>\n",
       "      <td id=\"T_949ff_row6_col2\" class=\"data row6 col2\" >0.004</td>\n",
       "      <td id=\"T_949ff_row6_col3\" class=\"data row6 col3\" >-0.426</td>\n",
       "      <td id=\"T_949ff_row6_col4\" class=\"data row6 col4\" >-0.024</td>\n",
       "      <td id=\"T_949ff_row6_col5\" class=\"data row6 col5\" >-0.600</td>\n",
       "      <td id=\"T_949ff_row6_col6\" class=\"data row6 col6\" >1.000</td>\n",
       "    </tr>\n",
       "  </tbody>\n",
       "</table>\n"
      ],
      "text/plain": [
       "<pandas.io.formats.style.Styler at 0x1e4c16579a0>"
      ]
     },
     "execution_count": 36,
     "metadata": {},
     "output_type": "execute_result"
    }
   ],
   "source": [
    "corr = df_acotado.drop(['make', 'model', 'location', 'provincia'], axis =1).corr()\n",
    "corr.style.background_gradient(cmap='Greens').format(precision=3)"
   ]
  },
  {
   "cell_type": "markdown",
   "id": "613986a4",
   "metadata": {},
   "source": [
    "Concluimos que power tiene poca correlacion con el target (precio) y ademas tiene una distribucion muy limitada. \n",
    "Por eso lo quitamos de nuestro dataset. "
   ]
  },
  {
   "cell_type": "markdown",
   "id": "c7580823",
   "metadata": {},
   "source": [
    "A tomar en cuenta:"
   ]
  },
  {
   "cell_type": "markdown",
   "id": "0f5dd1b8",
   "metadata": {},
   "source": [
    "Al estudiar los datos nos hemos dado cuenta de que coinciden anuncios de coches en los que solo cambia \n",
    "la locacalización, es decir, son duplicados. Por ello, eliminamos la columna y hacemos drop.duplicate()."
   ]
  },
  {
   "cell_type": "code",
   "execution_count": 37,
   "id": "776c9f36",
   "metadata": {},
   "outputs": [],
   "source": [
    "df_acotado  = df_acotado[['make','fuel','kms','shift','antiguedad', 'precio_escalado']]"
   ]
  },
  {
   "cell_type": "code",
   "execution_count": 38,
   "id": "ae247c97",
   "metadata": {},
   "outputs": [],
   "source": [
    "df_acotado = df_acotado.drop_duplicates()"
   ]
  },
  {
   "cell_type": "markdown",
   "id": "ba6540e3",
   "metadata": {},
   "source": [
    "Descubrimos que hay anuncios duplicados en varias provincias distintas, por lo que quitamos duplicados tras quitar las columnas correspondientes. Así que el df pasa a tener 11656 registros:"
   ]
  },
  {
   "cell_type": "code",
   "execution_count": 39,
   "id": "66d9926e",
   "metadata": {},
   "outputs": [
    {
     "data": {
      "text/plain": [
       "(11028, 6)"
      ]
     },
     "execution_count": 39,
     "metadata": {},
     "output_type": "execute_result"
    }
   ],
   "source": [
    "df_acotado.shape"
   ]
  },
  {
   "cell_type": "markdown",
   "id": "6ec7b55f",
   "metadata": {},
   "source": [
    "####  Vemos que resultados ha producido nuestro modelado"
   ]
  },
  {
   "cell_type": "markdown",
   "id": "801b62c1",
   "metadata": {},
   "source": [
    "Para ello hemos decido realizar un boxplot que nos permita ver la distribución del precio."
   ]
  },
  {
   "cell_type": "code",
   "execution_count": 40,
   "id": "eab8d066",
   "metadata": {},
   "outputs": [
    {
     "data": {
      "image/png": "[encoded data removed]",
      "text/plain": [
       "<Figure size 1000x480 with 2 Axes>"
      ]
     },
     "metadata": {},
     "output_type": "display_data"
    }
   ],
   "source": [
    "fig, (ax2, ax1) = plt.subplots(1, 2)\n",
    "\n",
    "z = df_acotado.precio_escalado\n",
    "\n",
    "ax2.boxplot(df.price)\n",
    "ax1.boxplot(z)\n",
    "ax2.set_title('Distribucion de precios anterior')\n",
    "ax1.set_title('Distribucion de precios posterior')\n",
    "ax2.set_ylabel('Precios en €')\n",
    "ax1.set_ylabel('Precios escala logaritmica y acotados')\n",
    "fig.subplots_adjust(wspace=0.5)\n",
    "fig.set_figwidth(10)"
   ]
  },
  {
   "cell_type": "markdown",
   "id": "424e57ae",
   "metadata": {},
   "source": [
    "Podemos ver que tras nuestra acotación y la transformación a escala logarítmica, la distrubución será mas eficiente para nuestro\n",
    "modelo. "
   ]
  },
  {
   "cell_type": "code",
   "execution_count": 41,
   "id": "af7eb72c",
   "metadata": {},
   "outputs": [
    {
     "data": {
      "text/plain": [
       "0        10.038892\n",
       "1         9.902987\n",
       "2         9.830379\n",
       "3        10.030120\n",
       "5         9.809177\n",
       "           ...    \n",
       "99931     9.809177\n",
       "99947     9.366489\n",
       "99948     9.487896\n",
       "99996     9.136694\n",
       "99998     8.980927\n",
       "Name: precio_escalado, Length: 11028, dtype: float64"
      ]
     },
     "execution_count": 41,
     "metadata": {},
     "output_type": "execute_result"
    }
   ],
   "source": [
    "df_acotado.precio_escalado"
   ]
  },
  {
   "cell_type": "markdown",
   "id": "8c74d5de",
   "metadata": {},
   "source": [
    "Además hemos escogido un diagrama de violín con el objetivo de tener otra perspectiva:"
   ]
  },
  {
   "cell_type": "code",
   "execution_count": 42,
   "id": "426af5b4",
   "metadata": {
    "scrolled": false
   },
   "outputs": [
    {
     "data": {
      "text/plain": [
       "Text(0.5, 0, 'Frecuencia')"
      ]
     },
     "execution_count": 42,
     "metadata": {},
     "output_type": "execute_result"
    },
    {
     "data": {
      "image/png": "[encoded data removed]",
      "text/plain": [
       "<Figure size 640x480 with 1 Axes>"
      ]
     },
     "metadata": {},
     "output_type": "display_data"
    }
   ],
   "source": [
    "plt.violinplot(df_acotado['precio_escalado'], quantiles = [0.25, 0.5, 0.75])\n",
    "plt.title('Distribución del precio')\n",
    "plt.ylabel('Precio en escala logaritmica')\n",
    "plt.xlabel('Frecuencia')"
   ]
  },
  {
   "cell_type": "markdown",
   "id": "1517e0c3",
   "metadata": {},
   "source": [
    "Podemos apreciar que nuestra distribución recae sobre los caurtiles medios, algo típico de una distribución normal. "
   ]
  },
  {
   "cell_type": "code",
   "execution_count": 43,
   "id": "d7747b13",
   "metadata": {},
   "outputs": [
    {
     "data": {
      "text/html": [
       "<div>\n",
       "<style scoped>\n",
       "    .dataframe tbody tr th:only-of-type {\n",
       "        vertical-align: middle;\n",
       "    }\n",
       "\n",
       "    .dataframe tbody tr th {\n",
       "        vertical-align: top;\n",
       "    }\n",
       "\n",
       "    .dataframe thead th {\n",
       "        text-align: right;\n",
       "    }\n",
       "</style>\n",
       "<table border=\"1\" class=\"dataframe\">\n",
       "  <thead>\n",
       "    <tr style=\"text-align: right;\">\n",
       "      <th></th>\n",
       "      <th>make</th>\n",
       "      <th>fuel</th>\n",
       "      <th>kms</th>\n",
       "      <th>shift</th>\n",
       "      <th>antiguedad</th>\n",
       "      <th>precio_escalado</th>\n",
       "    </tr>\n",
       "  </thead>\n",
       "  <tbody>\n",
       "    <tr>\n",
       "      <th>0</th>\n",
       "      <td>Opel</td>\n",
       "      <td>0</td>\n",
       "      <td>5.0</td>\n",
       "      <td>1</td>\n",
       "      <td>1</td>\n",
       "      <td>10.038892</td>\n",
       "    </tr>\n",
       "    <tr>\n",
       "      <th>1</th>\n",
       "      <td>Opel</td>\n",
       "      <td>0</td>\n",
       "      <td>24847.0</td>\n",
       "      <td>1</td>\n",
       "      <td>1</td>\n",
       "      <td>9.902987</td>\n",
       "    </tr>\n",
       "    <tr>\n",
       "      <th>2</th>\n",
       "      <td>Opel</td>\n",
       "      <td>1</td>\n",
       "      <td>41356.0</td>\n",
       "      <td>0</td>\n",
       "      <td>2</td>\n",
       "      <td>9.830379</td>\n",
       "    </tr>\n",
       "    <tr>\n",
       "      <th>3</th>\n",
       "      <td>Opel</td>\n",
       "      <td>0</td>\n",
       "      <td>11.0</td>\n",
       "      <td>1</td>\n",
       "      <td>1</td>\n",
       "      <td>10.030120</td>\n",
       "    </tr>\n",
       "    <tr>\n",
       "      <th>5</th>\n",
       "      <td>Opel</td>\n",
       "      <td>0</td>\n",
       "      <td>51390.0</td>\n",
       "      <td>1</td>\n",
       "      <td>2</td>\n",
       "      <td>9.809177</td>\n",
       "    </tr>\n",
       "  </tbody>\n",
       "</table>\n",
       "</div>"
      ],
      "text/plain": [
       "   make  fuel      kms  shift  antiguedad  precio_escalado\n",
       "0  Opel     0      5.0      1           1        10.038892\n",
       "1  Opel     0  24847.0      1           1         9.902987\n",
       "2  Opel     1  41356.0      0           2         9.830379\n",
       "3  Opel     0     11.0      1           1        10.030120\n",
       "5  Opel     0  51390.0      1           2         9.809177"
      ]
     },
     "execution_count": 43,
     "metadata": {},
     "output_type": "execute_result"
    }
   ],
   "source": [
    "df_acotado.head()"
   ]
  },
  {
   "cell_type": "markdown",
   "id": "2d6841c0",
   "metadata": {},
   "source": [
    "#### Label Encoder"
   ]
  },
  {
   "cell_type": "code",
   "execution_count": 44,
   "id": "83fea47b",
   "metadata": {},
   "outputs": [],
   "source": [
    "le = preprocessing.LabelEncoder()"
   ]
  },
  {
   "cell_type": "code",
   "execution_count": 45,
   "id": "2b9a8350",
   "metadata": {},
   "outputs": [
    {
     "data": {
      "text/html": [
       "<style>#sk-container-id-1 {color: black;}#sk-container-id-1 pre{padding: 0;}#sk-container-id-1 div.sk-toggleable {background-color: white;}#sk-container-id-1 label.sk-toggleable__label {cursor: pointer;display: block;width: 100%;margin-bottom: 0;padding: 0.3em;box-sizing: border-box;text-align: center;}#sk-container-id-1 label.sk-toggleable__label-arrow:before {content: \"▸\";float: left;margin-right: 0.25em;color: #696969;}#sk-container-id-1 label.sk-toggleable__label-arrow:hover:before {color: black;}#sk-container-id-1 div.sk-estimator:hover label.sk-toggleable__label-arrow:before {color: black;}#sk-container-id-1 div.sk-toggleable__content {max-height: 0;max-width: 0;overflow: hidden;text-align: left;background-color: #f0f8ff;}#sk-container-id-1 div.sk-toggleable__content pre {margin: 0.2em;color: black;border-radius: 0.25em;background-color: #f0f8ff;}#sk-container-id-1 input.sk-toggleable__control:checked~div.sk-toggleable__content {max-height: 200px;max-width: 100%;overflow: auto;}#sk-container-id-1 input.sk-toggleable__control:checked~label.sk-toggleable__label-arrow:before {content: \"▾\";}#sk-container-id-1 div.sk-estimator input.sk-toggleable__control:checked~label.sk-toggleable__label {background-color: #d4ebff;}#sk-container-id-1 div.sk-label input.sk-toggleable__control:checked~label.sk-toggleable__label {background-color: #d4ebff;}#sk-container-id-1 input.sk-hidden--visually {border: 0;clip: rect(1px 1px 1px 1px);clip: rect(1px, 1px, 1px, 1px);height: 1px;margin: -1px;overflow: hidden;padding: 0;position: absolute;width: 1px;}#sk-container-id-1 div.sk-estimator {font-family: monospace;background-color: #f0f8ff;border: 1px dotted black;border-radius: 0.25em;box-sizing: border-box;margin-bottom: 0.5em;}#sk-container-id-1 div.sk-estimator:hover {background-color: #d4ebff;}#sk-container-id-1 div.sk-parallel-item::after {content: \"\";width: 100%;border-bottom: 1px solid gray;flex-grow: 1;}#sk-container-id-1 div.sk-label:hover label.sk-toggleable__label {background-color: #d4ebff;}#sk-container-id-1 div.sk-serial::before {content: \"\";position: absolute;border-left: 1px solid gray;box-sizing: border-box;top: 0;bottom: 0;left: 50%;z-index: 0;}#sk-container-id-1 div.sk-serial {display: flex;flex-direction: column;align-items: center;background-color: white;padding-right: 0.2em;padding-left: 0.2em;position: relative;}#sk-container-id-1 div.sk-item {position: relative;z-index: 1;}#sk-container-id-1 div.sk-parallel {display: flex;align-items: stretch;justify-content: center;background-color: white;position: relative;}#sk-container-id-1 div.sk-item::before, #sk-container-id-1 div.sk-parallel-item::before {content: \"\";position: absolute;border-left: 1px solid gray;box-sizing: border-box;top: 0;bottom: 0;left: 50%;z-index: -1;}#sk-container-id-1 div.sk-parallel-item {display: flex;flex-direction: column;z-index: 1;position: relative;background-color: white;}#sk-container-id-1 div.sk-parallel-item:first-child::after {align-self: flex-end;width: 50%;}#sk-container-id-1 div.sk-parallel-item:last-child::after {align-self: flex-start;width: 50%;}#sk-container-id-1 div.sk-parallel-item:only-child::after {width: 0;}#sk-container-id-1 div.sk-dashed-wrapped {border: 1px dashed gray;margin: 0 0.4em 0.5em 0.4em;box-sizing: border-box;padding-bottom: 0.4em;background-color: white;}#sk-container-id-1 div.sk-label label {font-family: monospace;font-weight: bold;display: inline-block;line-height: 1.2em;}#sk-container-id-1 div.sk-label-container {text-align: center;}#sk-container-id-1 div.sk-container {/* jupyter's `normalize.less` sets `[hidden] { display: none; }` but bootstrap.min.css set `[hidden] { display: none !important; }` so we also need the `!important` here to be able to override the default hidden behavior on the sphinx rendered scikit-learn.org. See: https://github.com/scikit-learn/scikit-learn/issues/21755 */display: inline-block !important;position: relative;}#sk-container-id-1 div.sk-text-repr-fallback {display: none;}</style><div id=\"sk-container-id-1\" class=\"sk-top-container\"><div class=\"sk-text-repr-fallback\"><pre>LabelEncoder()</pre><b>In a Jupyter environment, please rerun this cell to show the HTML representation or trust the notebook. <br />On GitHub, the HTML representation is unable to render, please try loading this page with nbviewer.org.</b></div><div class=\"sk-container\" hidden><div class=\"sk-item\"><div class=\"sk-estimator sk-toggleable\"><input class=\"sk-toggleable__control sk-hidden--visually\" id=\"sk-estimator-id-1\" type=\"checkbox\" checked><label for=\"sk-estimator-id-1\" class=\"sk-toggleable__label sk-toggleable__label-arrow\">LabelEncoder</label><div class=\"sk-toggleable__content\"><pre>LabelEncoder()</pre></div></div></div></div></div>"
      ],
      "text/plain": [
       "LabelEncoder()"
      ]
     },
     "execution_count": 45,
     "metadata": {},
     "output_type": "execute_result"
    }
   ],
   "source": [
    "le.fit(df_acotado['make'])"
   ]
  },
  {
   "cell_type": "code",
   "execution_count": 46,
   "id": "d4979ba5",
   "metadata": {},
   "outputs": [],
   "source": [
    "make_encoded = le.transform(df_acotado['make'])"
   ]
  },
  {
   "cell_type": "code",
   "execution_count": 47,
   "id": "eb722b61",
   "metadata": {},
   "outputs": [],
   "source": [
    "df_acotado['make'] = make_encoded"
   ]
  },
  {
   "cell_type": "code",
   "execution_count": 48,
   "id": "53ac4ff3",
   "metadata": {},
   "outputs": [
    {
     "data": {
      "text/plain": [
       "(11028, 6)"
      ]
     },
     "execution_count": 48,
     "metadata": {},
     "output_type": "execute_result"
    }
   ],
   "source": [
    "df_acotado.shape"
   ]
  },
  {
   "cell_type": "code",
   "execution_count": 49,
   "id": "89bdcc84",
   "metadata": {},
   "outputs": [],
   "source": [
    "#save the label encoder to disk pickle\n",
    "with open('label_encoder.sav', \"wb\") as f:\n",
    "    pickle.dump(le, f)"
   ]
  },
  {
   "cell_type": "markdown",
   "id": "5a08c9e6",
   "metadata": {},
   "source": [
    "#### Estudio de los posibles clusters en el dataset"
   ]
  },
  {
   "cell_type": "code",
   "execution_count": 50,
   "id": "2a971b43",
   "metadata": {},
   "outputs": [],
   "source": [
    "np_aux2 = StandardScaler().fit_transform(df_acotado)\n",
    "\n",
    "hdb = HDBSCAN(min_cluster_size=530).fit(np_aux2)\n",
    "\n",
    "df_acotado['hdb_labels'] = hdb.labels_"
   ]
  },
  {
   "cell_type": "code",
   "execution_count": 51,
   "id": "3902d658",
   "metadata": {},
   "outputs": [
    {
     "data": {
      "text/plain": [
       "Text(0.5, 0, 'Precio en escala logaritmica')"
      ]
     },
     "execution_count": 51,
     "metadata": {},
     "output_type": "execute_result"
    },
    {
     "data": {
      "image/png": "[encoded data removed]",
      "text/plain": [
       "<Figure size 640x480 with 1 Axes>"
      ]
     },
     "metadata": {},
     "output_type": "display_data"
    }
   ],
   "source": [
    "plt.scatter(df_acotado['precio_escalado'],\n",
    "                df_acotado['antiguedad'],\n",
    "                c=df_acotado['hdb_labels'],\n",
    "                cmap='brg',\n",
    "                s=14)\n",
    "\n",
    "plt.ylabel('Antiguedad')\n",
    "plt.xlabel('Precio en escala logaritmica')"
   ]
  },
  {
   "cell_type": "markdown",
   "id": "a1e73706",
   "metadata": {},
   "source": [
    "Conclusión: \n",
    "\n",
    "- Se puede apreciar un grupo de vehiculos con menor varianza, y distinta antiguedad media (verde).\n",
    "    \n",
    "- Además podemos ver valores atípicos como un coche con más  de 50 años y con un valor bastante alto que ha reslutado ser un porche 911 (azul)."
   ]
  },
  {
   "cell_type": "code",
   "execution_count": 52,
   "id": "07b2776f",
   "metadata": {},
   "outputs": [
    {
     "data": {
      "text/html": [
       "<div>\n",
       "<style scoped>\n",
       "    .dataframe tbody tr th:only-of-type {\n",
       "        vertical-align: middle;\n",
       "    }\n",
       "\n",
       "    .dataframe tbody tr th {\n",
       "        vertical-align: top;\n",
       "    }\n",
       "\n",
       "    .dataframe thead th {\n",
       "        text-align: right;\n",
       "    }\n",
       "</style>\n",
       "<table border=\"1\" class=\"dataframe\">\n",
       "  <thead>\n",
       "    <tr style=\"text-align: right;\">\n",
       "      <th></th>\n",
       "      <th>make</th>\n",
       "      <th>fuel</th>\n",
       "      <th>kms</th>\n",
       "      <th>shift</th>\n",
       "      <th>antiguedad</th>\n",
       "      <th>precio_escalado</th>\n",
       "    </tr>\n",
       "  </thead>\n",
       "  <tbody>\n",
       "  </tbody>\n",
       "</table>\n",
       "</div>"
      ],
      "text/plain": [
       "Empty DataFrame\n",
       "Columns: [make, fuel, kms, shift, antiguedad, precio_escalado]\n",
       "Index: []"
      ]
     },
     "execution_count": 52,
     "metadata": {},
     "output_type": "execute_result"
    }
   ],
   "source": [
    "df_acotado = df_acotado.drop(['hdb_labels'], axis = 1)\n",
    "df_acotado[df_acotado.antiguedad > 50]"
   ]
  },
  {
   "cell_type": "markdown",
   "id": "37563419",
   "metadata": {},
   "source": [
    "# Modelo Machine Learning\n"
   ]
  },
  {
   "cell_type": "code",
   "execution_count": 53,
   "id": "0b03247c",
   "metadata": {},
   "outputs": [],
   "source": [
    "#Creamos feature KM/antiguedad\n",
    "\n",
    "#df_acotado['KM/antiguedad'] = df_acotado['kms'] / df_acotado['antiguedad']\n",
    "\n",
    "\n",
    "#df_acotado = df_acotado[df_acotado['KM/antiguedad'] != np.inf]\n",
    "\n",
    "#Split X e Y\n",
    "\n",
    "X = df_acotado.drop([\"precio_escalado\"], axis=1)\n",
    "y = df_acotado.precio_escalado\n",
    "\n",
    "#Comprobamos nueva columna\n",
    "\n",
    "#X[X['KM/antiguedad'].isna()]"
   ]
  },
  {
   "cell_type": "code",
   "execution_count": 54,
   "id": "d5cdaa9c",
   "metadata": {},
   "outputs": [],
   "source": [
    "X = X.fillna(0)"
   ]
  },
  {
   "cell_type": "code",
   "execution_count": 55,
   "id": "391d13a8",
   "metadata": {},
   "outputs": [
    {
     "data": {
      "text/plain": [
       "make          0\n",
       "fuel          0\n",
       "kms           0\n",
       "shift         0\n",
       "antiguedad    0\n",
       "dtype: int64"
      ]
     },
     "execution_count": 55,
     "metadata": {},
     "output_type": "execute_result"
    }
   ],
   "source": [
    "X.isna().sum()"
   ]
  },
  {
   "cell_type": "markdown",
   "id": "1623abb7",
   "metadata": {},
   "source": [
    "### Normalizacion y reducción de la dimensionalidad"
   ]
  },
  {
   "cell_type": "code",
   "execution_count": 56,
   "id": "7b364b24",
   "metadata": {},
   "outputs": [],
   "source": [
    "from sklearn.preprocessing import Normalizer"
   ]
  },
  {
   "cell_type": "code",
   "execution_count": 57,
   "id": "6d7bf1fd",
   "metadata": {},
   "outputs": [],
   "source": [
    "#Normalizamos todas las features sin valores inf para no sobredimensionar Kms\n",
    "\n",
    "normalizador = Normalizer().fit(X)\n",
    "X_nor = normalizador.transform(X)"
   ]
  },
  {
   "cell_type": "code",
   "execution_count": 58,
   "id": "7286f7c7",
   "metadata": {},
   "outputs": [
    {
     "data": {
      "text/html": [
       "<style>#sk-container-id-2 {color: black;}#sk-container-id-2 pre{padding: 0;}#sk-container-id-2 div.sk-toggleable {background-color: white;}#sk-container-id-2 label.sk-toggleable__label {cursor: pointer;display: block;width: 100%;margin-bottom: 0;padding: 0.3em;box-sizing: border-box;text-align: center;}#sk-container-id-2 label.sk-toggleable__label-arrow:before {content: \"▸\";float: left;margin-right: 0.25em;color: #696969;}#sk-container-id-2 label.sk-toggleable__label-arrow:hover:before {color: black;}#sk-container-id-2 div.sk-estimator:hover label.sk-toggleable__label-arrow:before {color: black;}#sk-container-id-2 div.sk-toggleable__content {max-height: 0;max-width: 0;overflow: hidden;text-align: left;background-color: #f0f8ff;}#sk-container-id-2 div.sk-toggleable__content pre {margin: 0.2em;color: black;border-radius: 0.25em;background-color: #f0f8ff;}#sk-container-id-2 input.sk-toggleable__control:checked~div.sk-toggleable__content {max-height: 200px;max-width: 100%;overflow: auto;}#sk-container-id-2 input.sk-toggleable__control:checked~label.sk-toggleable__label-arrow:before {content: \"▾\";}#sk-container-id-2 div.sk-estimator input.sk-toggleable__control:checked~label.sk-toggleable__label {background-color: #d4ebff;}#sk-container-id-2 div.sk-label input.sk-toggleable__control:checked~label.sk-toggleable__label {background-color: #d4ebff;}#sk-container-id-2 input.sk-hidden--visually {border: 0;clip: rect(1px 1px 1px 1px);clip: rect(1px, 1px, 1px, 1px);height: 1px;margin: -1px;overflow: hidden;padding: 0;position: absolute;width: 1px;}#sk-container-id-2 div.sk-estimator {font-family: monospace;background-color: #f0f8ff;border: 1px dotted black;border-radius: 0.25em;box-sizing: border-box;margin-bottom: 0.5em;}#sk-container-id-2 div.sk-estimator:hover {background-color: #d4ebff;}#sk-container-id-2 div.sk-parallel-item::after {content: \"\";width: 100%;border-bottom: 1px solid gray;flex-grow: 1;}#sk-container-id-2 div.sk-label:hover label.sk-toggleable__label {background-color: #d4ebff;}#sk-container-id-2 div.sk-serial::before {content: \"\";position: absolute;border-left: 1px solid gray;box-sizing: border-box;top: 0;bottom: 0;left: 50%;z-index: 0;}#sk-container-id-2 div.sk-serial {display: flex;flex-direction: column;align-items: center;background-color: white;padding-right: 0.2em;padding-left: 0.2em;position: relative;}#sk-container-id-2 div.sk-item {position: relative;z-index: 1;}#sk-container-id-2 div.sk-parallel {display: flex;align-items: stretch;justify-content: center;background-color: white;position: relative;}#sk-container-id-2 div.sk-item::before, #sk-container-id-2 div.sk-parallel-item::before {content: \"\";position: absolute;border-left: 1px solid gray;box-sizing: border-box;top: 0;bottom: 0;left: 50%;z-index: -1;}#sk-container-id-2 div.sk-parallel-item {display: flex;flex-direction: column;z-index: 1;position: relative;background-color: white;}#sk-container-id-2 div.sk-parallel-item:first-child::after {align-self: flex-end;width: 50%;}#sk-container-id-2 div.sk-parallel-item:last-child::after {align-self: flex-start;width: 50%;}#sk-container-id-2 div.sk-parallel-item:only-child::after {width: 0;}#sk-container-id-2 div.sk-dashed-wrapped {border: 1px dashed gray;margin: 0 0.4em 0.5em 0.4em;box-sizing: border-box;padding-bottom: 0.4em;background-color: white;}#sk-container-id-2 div.sk-label label {font-family: monospace;font-weight: bold;display: inline-block;line-height: 1.2em;}#sk-container-id-2 div.sk-label-container {text-align: center;}#sk-container-id-2 div.sk-container {/* jupyter's `normalize.less` sets `[hidden] { display: none; }` but bootstrap.min.css set `[hidden] { display: none !important; }` so we also need the `!important` here to be able to override the default hidden behavior on the sphinx rendered scikit-learn.org. See: https://github.com/scikit-learn/scikit-learn/issues/21755 */display: inline-block !important;position: relative;}#sk-container-id-2 div.sk-text-repr-fallback {display: none;}</style><div id=\"sk-container-id-2\" class=\"sk-top-container\"><div class=\"sk-text-repr-fallback\"><pre>PCA(n_components=5)</pre><b>In a Jupyter environment, please rerun this cell to show the HTML representation or trust the notebook. <br />On GitHub, the HTML representation is unable to render, please try loading this page with nbviewer.org.</b></div><div class=\"sk-container\" hidden><div class=\"sk-item\"><div class=\"sk-estimator sk-toggleable\"><input class=\"sk-toggleable__control sk-hidden--visually\" id=\"sk-estimator-id-2\" type=\"checkbox\" checked><label for=\"sk-estimator-id-2\" class=\"sk-toggleable__label sk-toggleable__label-arrow\">PCA</label><div class=\"sk-toggleable__content\"><pre>PCA(n_components=5)</pre></div></div></div></div></div>"
      ],
      "text/plain": [
       "PCA(n_components=5)"
      ]
     },
     "execution_count": 58,
     "metadata": {},
     "output_type": "execute_result"
    }
   ],
   "source": [
    "pca = PCA(n_components = X_nor.shape[1])\n",
    "pca.fit(X_nor)"
   ]
  },
  {
   "cell_type": "code",
   "execution_count": 59,
   "id": "fd885b40",
   "metadata": {},
   "outputs": [],
   "source": [
    "#save the normalizator to disk pickle\n",
    "with open('normalizador.sav', \"wb\") as f:\n",
    "    pickle.dump(normalizador, f)"
   ]
  },
  {
   "cell_type": "code",
   "execution_count": 60,
   "id": "dad1d20f",
   "metadata": {},
   "outputs": [
    {
     "data": {
      "text/plain": [
       "5"
      ]
     },
     "execution_count": 60,
     "metadata": {},
     "output_type": "execute_result"
    }
   ],
   "source": [
    "pca.n_components"
   ]
  },
  {
   "cell_type": "code",
   "execution_count": 61,
   "id": "7696af0b",
   "metadata": {},
   "outputs": [
    {
     "data": {
      "text/plain": [
       "array([ 0.75480904,  0.04159892, -0.65017998,  0.03720497,  0.06644273])"
      ]
     },
     "execution_count": 61,
     "metadata": {},
     "output_type": "execute_result"
    }
   ],
   "source": [
    "pca.components_[0]"
   ]
  },
  {
   "cell_type": "code",
   "execution_count": 62,
   "id": "eb2542e3",
   "metadata": {},
   "outputs": [
    {
     "data": {
      "text/plain": [
       "array([-0.41811948,  0.19644652, -0.38725428,  0.07740592,  0.79412046])"
      ]
     },
     "execution_count": 62,
     "metadata": {},
     "output_type": "execute_result"
    }
   ],
   "source": [
    "pca.components_[1]"
   ]
  },
  {
   "cell_type": "code",
   "execution_count": 63,
   "id": "9e1813e1",
   "metadata": {},
   "outputs": [],
   "source": [
    "ve = [sum(pca.explained_variance_ratio_[:i]) for i in range(X_nor.shape[1])]"
   ]
  },
  {
   "cell_type": "code",
   "execution_count": 64,
   "id": "c6ff017f",
   "metadata": {},
   "outputs": [
    {
     "data": {
      "text/plain": [
       "Text(0.5, 1.0, 'Varianza explicada por nº features incluidas')"
      ]
     },
     "execution_count": 64,
     "metadata": {},
     "output_type": "execute_result"
    },
    {
     "data": {
      "image/png": "[encoded data removed]",
      "text/plain": [
       "<Figure size 640x480 with 1 Axes>"
      ]
     },
     "metadata": {},
     "output_type": "display_data"
    }
   ],
   "source": [
    "plt.plot(range(X_nor.shape[1]), ve, label='Vararianza explicada')\n",
    "plt.axhline(y=0.98, color='r', linestyle='--', label='98% Var expl')\n",
    "plt.axvline(x=3, color='g', linestyle='--', label='Dos features')\n",
    "\n",
    "plt.ylabel('Varianza')\n",
    "plt.xlabel('Nº features')\n",
    "plt.xlim(right=3.5)\n",
    "plt.xlim(left=-0.1)\n",
    "plt.grid()\n",
    "plt.legend()\n",
    "\n",
    "plt.title('Varianza explicada por nº features incluidas')"
   ]
  },
  {
   "cell_type": "markdown",
   "id": "3446eb56",
   "metadata": {},
   "source": [
    "En el gráfico podemos apreciar que con tres features se supera el óptimo para llegar a un 98% de varianza explicada"
   ]
  },
  {
   "cell_type": "markdown",
   "id": "222a1cc1",
   "metadata": {},
   "source": [
    "### Entrenamos modelo con y sin PCA"
   ]
  },
  {
   "cell_type": "markdown",
   "id": "3c07d95d",
   "metadata": {},
   "source": [
    "#### Regresion lineal"
   ]
  },
  {
   "cell_type": "markdown",
   "id": "7b0e4243",
   "metadata": {},
   "source": [
    "Sin PCA"
   ]
  },
  {
   "cell_type": "code",
   "execution_count": 65,
   "id": "3a741aa1",
   "metadata": {},
   "outputs": [],
   "source": [
    "from sklearn.model_selection import train_test_split"
   ]
  },
  {
   "cell_type": "code",
   "execution_count": 66,
   "id": "88748bfd",
   "metadata": {},
   "outputs": [],
   "source": [
    "#Split train y test SIN PCA\n",
    "\n",
    "X_train_S, X_test_S, y_train_S, y_test_S = train_test_split(X_nor,y, test_size=0.25)"
   ]
  },
  {
   "cell_type": "code",
   "execution_count": 67,
   "id": "eef7d413",
   "metadata": {},
   "outputs": [
    {
     "name": "stdout",
     "output_type": "stream",
     "text": [
      "{'mean_fit_time': array([0.00199614, 0.00259895, 0.00239487, 0.00140023, 0.00159869,\n",
      "       0.00159945]), 'std_fit_time': array([0.00063946, 0.00049072, 0.00048403, 0.0004894 , 0.00048918,\n",
      "       0.00048854]), 'mean_score_time': array([0.00099983, 0.0007998 , 0.00080237, 0.00059991, 0.00100174,\n",
      "       0.00060043]), 'std_score_time': array([0.00063144, 0.0003999 , 0.0004012 , 0.00048982, 0.0006343 ,\n",
      "       0.00049025]), 'param_fit_intercept': masked_array(data=[True, True, True, False, False, False],\n",
      "             mask=[False, False, False, False, False, False],\n",
      "       fill_value='?',\n",
      "            dtype=object), 'param_n_jobs': masked_array(data=[1, 2, -1, 1, 2, -1],\n",
      "             mask=[False, False, False, False, False, False],\n",
      "       fill_value='?',\n",
      "            dtype=object), 'params': [{'fit_intercept': True, 'n_jobs': 1}, {'fit_intercept': True, 'n_jobs': 2}, {'fit_intercept': True, 'n_jobs': -1}, {'fit_intercept': False, 'n_jobs': 1}, {'fit_intercept': False, 'n_jobs': 2}, {'fit_intercept': False, 'n_jobs': -1}], 'split0_test_score': array([ 0.01624858,  0.01624858,  0.01624858, -0.14269684, -0.14269684,\n",
      "       -0.14269684]), 'split1_test_score': array([ 0.01464992,  0.01464992,  0.01464992, -0.13648898, -0.13648898,\n",
      "       -0.13648898]), 'split2_test_score': array([ 0.00451069,  0.00451069,  0.00451069, -0.14398979, -0.14398979,\n",
      "       -0.14398979]), 'split3_test_score': array([ 0.01336351,  0.01336351,  0.01336351, -0.13197503, -0.13197503,\n",
      "       -0.13197503]), 'split4_test_score': array([ 0.01008785,  0.01008785,  0.01008785, -0.14111692, -0.14111692,\n",
      "       -0.14111692]), 'mean_test_score': array([ 0.01177211,  0.01177211,  0.01177211, -0.13925351, -0.13925351,\n",
      "       -0.13925351]), 'std_test_score': array([0.00415736, 0.00415736, 0.00415736, 0.00443577, 0.00443577,\n",
      "       0.00443577]), 'rank_test_score': array([1, 1, 1, 4, 4, 4])}\n"
     ]
    }
   ],
   "source": [
    "#Entrenamos modelo regresivo con GridSearch previo \n",
    "from sklearn.model_selection import GridSearchCV\n",
    "from sklearn.linear_model import LinearRegression\n",
    "\n",
    "parameters = {'fit_intercept': [True, False], 'n_jobs': [1, 2, -1]}\n",
    "\n",
    "reg = LinearRegression()\n",
    "\n",
    "GSLRsinPCA = GridSearchCV(reg, parameters)\n",
    "\n",
    "GSLRsinPCA.fit(X_train_S, y_train_S)\n",
    "\n",
    "print(GSLRsinPCA.cv_results_)"
   ]
  },
  {
   "cell_type": "markdown",
   "id": "ab431e67",
   "metadata": {},
   "source": [
    "La busqueda de hiperparametros señala a los modelos primero, segundo y tercero como mejores, con misma consistencia \n",
    "(desviacion tipica de score) y media de score, resultando en la primera posición en el ranking"
   ]
  },
  {
   "cell_type": "code",
   "execution_count": 68,
   "id": "f6779c13",
   "metadata": {},
   "outputs": [],
   "source": [
    "y_pred_S = GSLRsinPCA.predict(X_test_S)"
   ]
  },
  {
   "cell_type": "code",
   "execution_count": 69,
   "id": "76db5991",
   "metadata": {},
   "outputs": [
    {
     "data": {
      "text/plain": [
       "0.5232598726210936"
      ]
     },
     "execution_count": 69,
     "metadata": {},
     "output_type": "execute_result"
    }
   ],
   "source": [
    "mae = mean_absolute_error(y_test_S, y_pred_S)\n",
    "mae"
   ]
  },
  {
   "cell_type": "code",
   "execution_count": 70,
   "id": "16cd35b0",
   "metadata": {},
   "outputs": [],
   "source": [
    "reg_S_mae = mean_absolute_error(y_test_S, y_pred_S)\n",
    "reg_S_mse = mean_squared_error(y_test_S, y_pred_S)\n",
    "reg_S_rmse = reg_S_mse**.5"
   ]
  },
  {
   "cell_type": "code",
   "execution_count": 71,
   "id": "593e1cb3",
   "metadata": {},
   "outputs": [],
   "source": [
    "data0 = ['Modelo', 'mae', 'mse','sqmse']"
   ]
  },
  {
   "cell_type": "code",
   "execution_count": 72,
   "id": "4df00292",
   "metadata": {},
   "outputs": [],
   "source": [
    "data1 = ['Regresion Lineal sin PCA', reg_S_mae, reg_S_mae, reg_S_rmse] "
   ]
  },
  {
   "cell_type": "code",
   "execution_count": 73,
   "id": "6a09cb64",
   "metadata": {},
   "outputs": [
    {
     "name": "stdout",
     "output_type": "stream",
     "text": [
      "reg_S_mae=0.5232598726210936 \n",
      "reg_S_mae=0.5232598726210936 \n",
      "reg_S_rmse=0.6785845416104395 \n"
     ]
    }
   ],
   "source": [
    "print(f'{reg_S_mae=} \\n{reg_S_mae=} \\n{reg_S_rmse=} ')"
   ]
  },
  {
   "cell_type": "code",
   "execution_count": 74,
   "id": "f5aeaa88",
   "metadata": {},
   "outputs": [
    {
     "name": "stdout",
     "output_type": "stream",
     "text": [
      " Regresion Lineal sin PCA GSLRsinPCA.score=<bound method BaseSearchCV.score of GridSearchCV(estimator=LinearRegression(),\n",
      "             param_grid={'fit_intercept': [True, False], 'n_jobs': [1, 2, -1]})>, mae=0.5232598726210936\n"
     ]
    }
   ],
   "source": [
    "print(f' Regresion Lineal sin PCA {GSLRsinPCA.score=}, {mae=}')"
   ]
  },
  {
   "cell_type": "markdown",
   "id": "69958235",
   "metadata": {},
   "source": [
    "Con PCA"
   ]
  },
  {
   "cell_type": "code",
   "execution_count": 75,
   "id": "bc154e57",
   "metadata": {},
   "outputs": [],
   "source": [
    "x_pca = pca.fit_transform(X_nor)"
   ]
  },
  {
   "cell_type": "code",
   "execution_count": 76,
   "id": "e64b281f",
   "metadata": {},
   "outputs": [],
   "source": [
    "#Split train y test CON PCA\n",
    "\n",
    "X_train_c, X_test_c, y_train_c, y_test_c = train_test_split(x_pca,y, test_size=0.25)"
   ]
  },
  {
   "cell_type": "code",
   "execution_count": 77,
   "id": "d096d872",
   "metadata": {},
   "outputs": [
    {
     "name": "stdout",
     "output_type": "stream",
     "text": [
      "{'mean_fit_time': array([0.00299954, 0.00279808, 0.00159969, 0.00219965, 0.00220056,\n",
      "       0.00260034]), 'std_fit_time': array([1.90734863e-06, 9.78110121e-04, 4.89610942e-04, 7.48838181e-04,\n",
      "       4.00567491e-04, 8.01100569e-04]), 'mean_score_time': array([0.00140562, 0.00120068, 0.00100045, 0.00080075, 0.00120077,\n",
      "       0.00100002]), 'std_score_time': array([4.98036235e-04, 4.00900936e-04, 6.32560542e-04, 4.00376927e-04,\n",
      "       3.99542267e-04, 3.09613859e-06]), 'param_fit_intercept': masked_array(data=[True, True, True, False, False, False],\n",
      "             mask=[False, False, False, False, False, False],\n",
      "       fill_value='?',\n",
      "            dtype=object), 'param_n_jobs': masked_array(data=[1, 2, -1, 1, 2, -1],\n",
      "             mask=[False, False, False, False, False, False],\n",
      "       fill_value='?',\n",
      "            dtype=object), 'params': [{'fit_intercept': True, 'n_jobs': 1}, {'fit_intercept': True, 'n_jobs': 2}, {'fit_intercept': True, 'n_jobs': -1}, {'fit_intercept': False, 'n_jobs': 1}, {'fit_intercept': False, 'n_jobs': 2}, {'fit_intercept': False, 'n_jobs': -1}], 'split0_test_score': array([ 8.19054505e-03,  8.19054505e-03,  8.19054505e-03, -1.95930777e+02,\n",
      "       -1.95930777e+02, -1.95930777e+02]), 'split1_test_score': array([ 8.98181951e-03,  8.98181951e-03,  8.98181951e-03, -2.07754075e+02,\n",
      "       -2.07754075e+02, -2.07754075e+02]), 'split2_test_score': array([ 1.42848794e-02,  1.42848794e-02,  1.42848794e-02, -1.91177322e+02,\n",
      "       -1.91177322e+02, -1.91177322e+02]), 'split3_test_score': array([ 1.65084725e-02,  1.65084725e-02,  1.65084725e-02, -2.03344668e+02,\n",
      "       -2.03344668e+02, -2.03344668e+02]), 'split4_test_score': array([ 1.83103599e-02,  1.83103599e-02,  1.83103599e-02, -2.01794325e+02,\n",
      "       -2.01794325e+02, -2.01794325e+02]), 'mean_test_score': array([ 1.32552153e-02,  1.32552153e-02,  1.32552153e-02, -2.00000233e+02,\n",
      "       -2.00000233e+02, -2.00000233e+02]), 'std_test_score': array([4.02768356e-03, 4.02768356e-03, 4.02768356e-03, 5.81257794e+00,\n",
      "       5.81257794e+00, 5.81257794e+00]), 'rank_test_score': array([1, 1, 1, 4, 4, 4])}\n"
     ]
    }
   ],
   "source": [
    "#Entrenamos modelo regresivo con Grid Search y PCA\n",
    "\n",
    "parameters = {'fit_intercept': [True, False], 'n_jobs': [1, 2, -1]}\n",
    "\n",
    "reg = LinearRegression()\n",
    "\n",
    "GSLRconPCA = GridSearchCV(reg, parameters)\n",
    "\n",
    "GSLRconPCA.fit(X_train_c, y_train_c)\n",
    "\n",
    "print(GSLRconPCA.cv_results_)\n"
   ]
  },
  {
   "cell_type": "markdown",
   "id": "2b218310",
   "metadata": {},
   "source": [
    "La busqueda de hiperparametros señala a los modelos primero, segundo y tercero como mejores, con misma consistencia \n",
    "(desviacion tipica de score) y media de score, resultando en la primera posición en el ranking"
   ]
  },
  {
   "cell_type": "code",
   "execution_count": 78,
   "id": "17acf6a2",
   "metadata": {},
   "outputs": [
    {
     "data": {
      "text/plain": [
       "0.5117479554167789"
      ]
     },
     "execution_count": 78,
     "metadata": {},
     "output_type": "execute_result"
    }
   ],
   "source": [
    "y_pred_c = GSLRconPCA.predict(X_test_c)\n",
    "mae = mean_absolute_error(y_test_c, y_pred_c)\n",
    "mae"
   ]
  },
  {
   "cell_type": "code",
   "execution_count": 79,
   "id": "381138ca",
   "metadata": {},
   "outputs": [],
   "source": [
    "reg_C_mae = mean_absolute_error(y_test_c, y_pred_c)\n",
    "reg_C_mse = mean_squared_error(y_test_c, y_pred_c)\n",
    "reg_C_rmse = reg_C_mse**.5"
   ]
  },
  {
   "cell_type": "code",
   "execution_count": 80,
   "id": "23d5b28e",
   "metadata": {},
   "outputs": [],
   "source": [
    "data2 = ['Regresion Lineal con PCA', reg_C_mae, reg_C_mse, reg_C_rmse] "
   ]
  },
  {
   "cell_type": "code",
   "execution_count": 81,
   "id": "7ae50d38",
   "metadata": {},
   "outputs": [
    {
     "name": "stdout",
     "output_type": "stream",
     "text": [
      "reg_C_mae=0.5117479554167789 \n",
      "reg_C_mse=0.45057702381788045 \n",
      "reg_C_rmse=0.6712503436258938 \n"
     ]
    }
   ],
   "source": [
    "print(f'{reg_C_mae=} \\n{reg_C_mse=} \\n{reg_C_rmse=} ')"
   ]
  },
  {
   "cell_type": "markdown",
   "id": "7a22d0af",
   "metadata": {},
   "source": [
    "#### Random Forest Regressor"
   ]
  },
  {
   "cell_type": "code",
   "execution_count": 82,
   "id": "4e9ed005",
   "metadata": {},
   "outputs": [],
   "source": [
    "from sklearn.ensemble import RandomForestRegressor\n",
    "from sklearn.datasets import make_regression"
   ]
  },
  {
   "cell_type": "markdown",
   "id": "d67a877d",
   "metadata": {},
   "source": [
    "SIN PCA"
   ]
  },
  {
   "cell_type": "code",
   "execution_count": 83,
   "id": "1a93def3",
   "metadata": {},
   "outputs": [
    {
     "data": {
      "text/html": [
       "<style>#sk-container-id-3 {color: black;}#sk-container-id-3 pre{padding: 0;}#sk-container-id-3 div.sk-toggleable {background-color: white;}#sk-container-id-3 label.sk-toggleable__label {cursor: pointer;display: block;width: 100%;margin-bottom: 0;padding: 0.3em;box-sizing: border-box;text-align: center;}#sk-container-id-3 label.sk-toggleable__label-arrow:before {content: \"▸\";float: left;margin-right: 0.25em;color: #696969;}#sk-container-id-3 label.sk-toggleable__label-arrow:hover:before {color: black;}#sk-container-id-3 div.sk-estimator:hover label.sk-toggleable__label-arrow:before {color: black;}#sk-container-id-3 div.sk-toggleable__content {max-height: 0;max-width: 0;overflow: hidden;text-align: left;background-color: #f0f8ff;}#sk-container-id-3 div.sk-toggleable__content pre {margin: 0.2em;color: black;border-radius: 0.25em;background-color: #f0f8ff;}#sk-container-id-3 input.sk-toggleable__control:checked~div.sk-toggleable__content {max-height: 200px;max-width: 100%;overflow: auto;}#sk-container-id-3 input.sk-toggleable__control:checked~label.sk-toggleable__label-arrow:before {content: \"▾\";}#sk-container-id-3 div.sk-estimator input.sk-toggleable__control:checked~label.sk-toggleable__label {background-color: #d4ebff;}#sk-container-id-3 div.sk-label input.sk-toggleable__control:checked~label.sk-toggleable__label {background-color: #d4ebff;}#sk-container-id-3 input.sk-hidden--visually {border: 0;clip: rect(1px 1px 1px 1px);clip: rect(1px, 1px, 1px, 1px);height: 1px;margin: -1px;overflow: hidden;padding: 0;position: absolute;width: 1px;}#sk-container-id-3 div.sk-estimator {font-family: monospace;background-color: #f0f8ff;border: 1px dotted black;border-radius: 0.25em;box-sizing: border-box;margin-bottom: 0.5em;}#sk-container-id-3 div.sk-estimator:hover {background-color: #d4ebff;}#sk-container-id-3 div.sk-parallel-item::after {content: \"\";width: 100%;border-bottom: 1px solid gray;flex-grow: 1;}#sk-container-id-3 div.sk-label:hover label.sk-toggleable__label {background-color: #d4ebff;}#sk-container-id-3 div.sk-serial::before {content: \"\";position: absolute;border-left: 1px solid gray;box-sizing: border-box;top: 0;bottom: 0;left: 50%;z-index: 0;}#sk-container-id-3 div.sk-serial {display: flex;flex-direction: column;align-items: center;background-color: white;padding-right: 0.2em;padding-left: 0.2em;position: relative;}#sk-container-id-3 div.sk-item {position: relative;z-index: 1;}#sk-container-id-3 div.sk-parallel {display: flex;align-items: stretch;justify-content: center;background-color: white;position: relative;}#sk-container-id-3 div.sk-item::before, #sk-container-id-3 div.sk-parallel-item::before {content: \"\";position: absolute;border-left: 1px solid gray;box-sizing: border-box;top: 0;bottom: 0;left: 50%;z-index: -1;}#sk-container-id-3 div.sk-parallel-item {display: flex;flex-direction: column;z-index: 1;position: relative;background-color: white;}#sk-container-id-3 div.sk-parallel-item:first-child::after {align-self: flex-end;width: 50%;}#sk-container-id-3 div.sk-parallel-item:last-child::after {align-self: flex-start;width: 50%;}#sk-container-id-3 div.sk-parallel-item:only-child::after {width: 0;}#sk-container-id-3 div.sk-dashed-wrapped {border: 1px dashed gray;margin: 0 0.4em 0.5em 0.4em;box-sizing: border-box;padding-bottom: 0.4em;background-color: white;}#sk-container-id-3 div.sk-label label {font-family: monospace;font-weight: bold;display: inline-block;line-height: 1.2em;}#sk-container-id-3 div.sk-label-container {text-align: center;}#sk-container-id-3 div.sk-container {/* jupyter's `normalize.less` sets `[hidden] { display: none; }` but bootstrap.min.css set `[hidden] { display: none !important; }` so we also need the `!important` here to be able to override the default hidden behavior on the sphinx rendered scikit-learn.org. See: https://github.com/scikit-learn/scikit-learn/issues/21755 */display: inline-block !important;position: relative;}#sk-container-id-3 div.sk-text-repr-fallback {display: none;}</style><div id=\"sk-container-id-3\" class=\"sk-top-container\"><div class=\"sk-text-repr-fallback\"><pre>GridSearchCV(estimator=RandomForestRegressor(),\n",
       "             param_grid={&#x27;max_depth&#x27;: (10, 20, None),\n",
       "                         &#x27;n_estimators&#x27;: [10, 100, 500]})</pre><b>In a Jupyter environment, please rerun this cell to show the HTML representation or trust the notebook. <br />On GitHub, the HTML representation is unable to render, please try loading this page with nbviewer.org.</b></div><div class=\"sk-container\" hidden><div class=\"sk-item sk-dashed-wrapped\"><div class=\"sk-label-container\"><div class=\"sk-label sk-toggleable\"><input class=\"sk-toggleable__control sk-hidden--visually\" id=\"sk-estimator-id-3\" type=\"checkbox\" ><label for=\"sk-estimator-id-3\" class=\"sk-toggleable__label sk-toggleable__label-arrow\">GridSearchCV</label><div class=\"sk-toggleable__content\"><pre>GridSearchCV(estimator=RandomForestRegressor(),\n",
       "             param_grid={&#x27;max_depth&#x27;: (10, 20, None),\n",
       "                         &#x27;n_estimators&#x27;: [10, 100, 500]})</pre></div></div></div><div class=\"sk-parallel\"><div class=\"sk-parallel-item\"><div class=\"sk-item\"><div class=\"sk-label-container\"><div class=\"sk-label sk-toggleable\"><input class=\"sk-toggleable__control sk-hidden--visually\" id=\"sk-estimator-id-4\" type=\"checkbox\" ><label for=\"sk-estimator-id-4\" class=\"sk-toggleable__label sk-toggleable__label-arrow\">estimator: RandomForestRegressor</label><div class=\"sk-toggleable__content\"><pre>RandomForestRegressor()</pre></div></div></div><div class=\"sk-serial\"><div class=\"sk-item\"><div class=\"sk-estimator sk-toggleable\"><input class=\"sk-toggleable__control sk-hidden--visually\" id=\"sk-estimator-id-5\" type=\"checkbox\" ><label for=\"sk-estimator-id-5\" class=\"sk-toggleable__label sk-toggleable__label-arrow\">RandomForestRegressor</label><div class=\"sk-toggleable__content\"><pre>RandomForestRegressor()</pre></div></div></div></div></div></div></div></div></div></div>"
      ],
      "text/plain": [
       "GridSearchCV(estimator=RandomForestRegressor(),\n",
       "             param_grid={'max_depth': (10, 20, None),\n",
       "                         'n_estimators': [10, 100, 500]})"
      ]
     },
     "execution_count": 83,
     "metadata": {},
     "output_type": "execute_result"
    }
   ],
   "source": [
    "\n",
    "parameters = {'n_estimators':[10, 100, 500], 'max_depth':(10, 20, None)}\n",
    "\n",
    "rfr = RandomForestRegressor()\n",
    "\n",
    "GSRFsinPCA = GridSearchCV(rfr, parameters)\n",
    "\n",
    "GSRFsinPCA.fit(X_train_S, y_train_S)\n"
   ]
  },
  {
   "cell_type": "code",
   "execution_count": 84,
   "id": "199b37d2",
   "metadata": {
    "scrolled": true
   },
   "outputs": [
    {
     "name": "stdout",
     "output_type": "stream",
     "text": [
      "{'mean_fit_time': array([ 0.31020737,  2.98500133, 14.83160262,  0.54019771,  5.39779601,\n",
      "       27.18156238,  0.55960698,  5.58158541, 28.42382183]), 'std_fit_time': array([0.01265246, 0.03920158, 0.08961527, 0.00453327, 0.03304554,\n",
      "       0.0595314 , 0.00552401, 0.0481639 , 0.33804207]), 'mean_score_time': array([0.00380101, 0.02660041, 0.13358521, 0.00519991, 0.04377279,\n",
      "       0.21962776, 0.00580134, 0.04680109, 0.23399591]), 'std_score_time': array([0.00039948, 0.00082008, 0.00295233, 0.00040402, 0.00040559,\n",
      "       0.0047232 , 0.00040086, 0.00038308, 0.00713255]), 'param_max_depth': masked_array(data=[10, 10, 10, 20, 20, 20, None, None, None],\n",
      "             mask=[False, False, False, False, False, False, False, False,\n",
      "                   False],\n",
      "       fill_value='?',\n",
      "            dtype=object), 'param_n_estimators': masked_array(data=[10, 100, 500, 10, 100, 500, 10, 100, 500],\n",
      "             mask=[False, False, False, False, False, False, False, False,\n",
      "                   False],\n",
      "       fill_value='?',\n",
      "            dtype=object), 'params': [{'max_depth': 10, 'n_estimators': 10}, {'max_depth': 10, 'n_estimators': 100}, {'max_depth': 10, 'n_estimators': 500}, {'max_depth': 20, 'n_estimators': 10}, {'max_depth': 20, 'n_estimators': 100}, {'max_depth': 20, 'n_estimators': 500}, {'max_depth': None, 'n_estimators': 10}, {'max_depth': None, 'n_estimators': 100}, {'max_depth': None, 'n_estimators': 500}], 'split0_test_score': array([0.66856981, 0.68079318, 0.68282875, 0.66029866, 0.6827686 ,\n",
      "       0.68412972, 0.66371241, 0.68181138, 0.68225734]), 'split1_test_score': array([0.70126602, 0.71129715, 0.71665299, 0.68955594, 0.71159887,\n",
      "       0.71275565, 0.69225491, 0.71706778, 0.71180357]), 'split2_test_score': array([0.68148771, 0.69601407, 0.69748776, 0.66928891, 0.69633904,\n",
      "       0.69905203, 0.67089187, 0.69598493, 0.69838163]), 'split3_test_score': array([0.67816699, 0.69835503, 0.69854933, 0.66939432, 0.69433394,\n",
      "       0.69585273, 0.67504058, 0.69575081, 0.69682266]), 'split4_test_score': array([0.66640171, 0.6721484 , 0.67282992, 0.64183071, 0.66121946,\n",
      "       0.66614359, 0.64897099, 0.66144466, 0.66605752]), 'mean_test_score': array([0.67917845, 0.69172157, 0.69366975, 0.66607371, 0.68925198,\n",
      "       0.69158674, 0.67017415, 0.69041191, 0.69106454]), 'std_test_score': array([0.01240971, 0.01377077, 0.01495622, 0.01545221, 0.01675287,\n",
      "       0.01565256, 0.01416394, 0.01834758, 0.01561871]), 'rank_test_score': array([7, 2, 1, 9, 6, 3, 8, 5, 4])}\n"
     ]
    }
   ],
   "source": [
    "print(GSRFsinPCA.cv_results_)\n"
   ]
  },
  {
   "cell_type": "markdown",
   "id": "e9b942c2",
   "metadata": {},
   "source": [
    "Los resultados del Grid Search indican que el modelo mas eficiente es el tercero (max depth = 10, nº estimators = 100), \n",
    "con la primera posicion en el ranking y mayor consistencia (menor desviacion tipica de score)"
   ]
  },
  {
   "cell_type": "code",
   "execution_count": 85,
   "id": "19c6b159",
   "metadata": {},
   "outputs": [],
   "source": [
    "y_pred_S_rf = GSRFsinPCA.predict(X_test_S)"
   ]
  },
  {
   "cell_type": "code",
   "execution_count": 86,
   "id": "a80d024c",
   "metadata": {},
   "outputs": [],
   "source": [
    "rf_S_mae = mean_absolute_error(y_test_S, y_pred_S_rf)\n",
    "rf_S_mse = mean_squared_error(y_test_S, y_pred_S_rf)\n",
    "rf_S_rmse = rf_S_mse**.5"
   ]
  },
  {
   "cell_type": "code",
   "execution_count": 87,
   "id": "3a36785e",
   "metadata": {},
   "outputs": [],
   "source": [
    "data3 = ['Random Forest sin PCA', rf_S_mae, rf_S_mse, rf_S_rmse] "
   ]
  },
  {
   "cell_type": "code",
   "execution_count": 88,
   "id": "283906da",
   "metadata": {},
   "outputs": [
    {
     "name": "stdout",
     "output_type": "stream",
     "text": [
      "rf_S_mae=0.2714104200062069 \n",
      "rf_S_mse=0.14456550554056255 \n",
      "rf_S_rmse=0.3802177080838852 \n"
     ]
    }
   ],
   "source": [
    "print(f'{rf_S_mae=} \\n{rf_S_mse=} \\n{rf_S_rmse=} ')"
   ]
  },
  {
   "cell_type": "markdown",
   "id": "319b8150",
   "metadata": {},
   "source": [
    "CON PCA"
   ]
  },
  {
   "cell_type": "code",
   "execution_count": 89,
   "id": "4ab98a17",
   "metadata": {},
   "outputs": [
    {
     "data": {
      "text/html": [
       "<style>#sk-container-id-4 {color: black;}#sk-container-id-4 pre{padding: 0;}#sk-container-id-4 div.sk-toggleable {background-color: white;}#sk-container-id-4 label.sk-toggleable__label {cursor: pointer;display: block;width: 100%;margin-bottom: 0;padding: 0.3em;box-sizing: border-box;text-align: center;}#sk-container-id-4 label.sk-toggleable__label-arrow:before {content: \"▸\";float: left;margin-right: 0.25em;color: #696969;}#sk-container-id-4 label.sk-toggleable__label-arrow:hover:before {color: black;}#sk-container-id-4 div.sk-estimator:hover label.sk-toggleable__label-arrow:before {color: black;}#sk-container-id-4 div.sk-toggleable__content {max-height: 0;max-width: 0;overflow: hidden;text-align: left;background-color: #f0f8ff;}#sk-container-id-4 div.sk-toggleable__content pre {margin: 0.2em;color: black;border-radius: 0.25em;background-color: #f0f8ff;}#sk-container-id-4 input.sk-toggleable__control:checked~div.sk-toggleable__content {max-height: 200px;max-width: 100%;overflow: auto;}#sk-container-id-4 input.sk-toggleable__control:checked~label.sk-toggleable__label-arrow:before {content: \"▾\";}#sk-container-id-4 div.sk-estimator input.sk-toggleable__control:checked~label.sk-toggleable__label {background-color: #d4ebff;}#sk-container-id-4 div.sk-label input.sk-toggleable__control:checked~label.sk-toggleable__label {background-color: #d4ebff;}#sk-container-id-4 input.sk-hidden--visually {border: 0;clip: rect(1px 1px 1px 1px);clip: rect(1px, 1px, 1px, 1px);height: 1px;margin: -1px;overflow: hidden;padding: 0;position: absolute;width: 1px;}#sk-container-id-4 div.sk-estimator {font-family: monospace;background-color: #f0f8ff;border: 1px dotted black;border-radius: 0.25em;box-sizing: border-box;margin-bottom: 0.5em;}#sk-container-id-4 div.sk-estimator:hover {background-color: #d4ebff;}#sk-container-id-4 div.sk-parallel-item::after {content: \"\";width: 100%;border-bottom: 1px solid gray;flex-grow: 1;}#sk-container-id-4 div.sk-label:hover label.sk-toggleable__label {background-color: #d4ebff;}#sk-container-id-4 div.sk-serial::before {content: \"\";position: absolute;border-left: 1px solid gray;box-sizing: border-box;top: 0;bottom: 0;left: 50%;z-index: 0;}#sk-container-id-4 div.sk-serial {display: flex;flex-direction: column;align-items: center;background-color: white;padding-right: 0.2em;padding-left: 0.2em;position: relative;}#sk-container-id-4 div.sk-item {position: relative;z-index: 1;}#sk-container-id-4 div.sk-parallel {display: flex;align-items: stretch;justify-content: center;background-color: white;position: relative;}#sk-container-id-4 div.sk-item::before, #sk-container-id-4 div.sk-parallel-item::before {content: \"\";position: absolute;border-left: 1px solid gray;box-sizing: border-box;top: 0;bottom: 0;left: 50%;z-index: -1;}#sk-container-id-4 div.sk-parallel-item {display: flex;flex-direction: column;z-index: 1;position: relative;background-color: white;}#sk-container-id-4 div.sk-parallel-item:first-child::after {align-self: flex-end;width: 50%;}#sk-container-id-4 div.sk-parallel-item:last-child::after {align-self: flex-start;width: 50%;}#sk-container-id-4 div.sk-parallel-item:only-child::after {width: 0;}#sk-container-id-4 div.sk-dashed-wrapped {border: 1px dashed gray;margin: 0 0.4em 0.5em 0.4em;box-sizing: border-box;padding-bottom: 0.4em;background-color: white;}#sk-container-id-4 div.sk-label label {font-family: monospace;font-weight: bold;display: inline-block;line-height: 1.2em;}#sk-container-id-4 div.sk-label-container {text-align: center;}#sk-container-id-4 div.sk-container {/* jupyter's `normalize.less` sets `[hidden] { display: none; }` but bootstrap.min.css set `[hidden] { display: none !important; }` so we also need the `!important` here to be able to override the default hidden behavior on the sphinx rendered scikit-learn.org. See: https://github.com/scikit-learn/scikit-learn/issues/21755 */display: inline-block !important;position: relative;}#sk-container-id-4 div.sk-text-repr-fallback {display: none;}</style><div id=\"sk-container-id-4\" class=\"sk-top-container\"><div class=\"sk-text-repr-fallback\"><pre>GridSearchCV(estimator=RandomForestRegressor(),\n",
       "             param_grid={&#x27;max_depth&#x27;: (10, 20, None),\n",
       "                         &#x27;n_estimators&#x27;: [10, 100, 500]})</pre><b>In a Jupyter environment, please rerun this cell to show the HTML representation or trust the notebook. <br />On GitHub, the HTML representation is unable to render, please try loading this page with nbviewer.org.</b></div><div class=\"sk-container\" hidden><div class=\"sk-item sk-dashed-wrapped\"><div class=\"sk-label-container\"><div class=\"sk-label sk-toggleable\"><input class=\"sk-toggleable__control sk-hidden--visually\" id=\"sk-estimator-id-6\" type=\"checkbox\" ><label for=\"sk-estimator-id-6\" class=\"sk-toggleable__label sk-toggleable__label-arrow\">GridSearchCV</label><div class=\"sk-toggleable__content\"><pre>GridSearchCV(estimator=RandomForestRegressor(),\n",
       "             param_grid={&#x27;max_depth&#x27;: (10, 20, None),\n",
       "                         &#x27;n_estimators&#x27;: [10, 100, 500]})</pre></div></div></div><div class=\"sk-parallel\"><div class=\"sk-parallel-item\"><div class=\"sk-item\"><div class=\"sk-label-container\"><div class=\"sk-label sk-toggleable\"><input class=\"sk-toggleable__control sk-hidden--visually\" id=\"sk-estimator-id-7\" type=\"checkbox\" ><label for=\"sk-estimator-id-7\" class=\"sk-toggleable__label sk-toggleable__label-arrow\">estimator: RandomForestRegressor</label><div class=\"sk-toggleable__content\"><pre>RandomForestRegressor()</pre></div></div></div><div class=\"sk-serial\"><div class=\"sk-item\"><div class=\"sk-estimator sk-toggleable\"><input class=\"sk-toggleable__control sk-hidden--visually\" id=\"sk-estimator-id-8\" type=\"checkbox\" ><label for=\"sk-estimator-id-8\" class=\"sk-toggleable__label sk-toggleable__label-arrow\">RandomForestRegressor</label><div class=\"sk-toggleable__content\"><pre>RandomForestRegressor()</pre></div></div></div></div></div></div></div></div></div></div>"
      ],
      "text/plain": [
       "GridSearchCV(estimator=RandomForestRegressor(),\n",
       "             param_grid={'max_depth': (10, 20, None),\n",
       "                         'n_estimators': [10, 100, 500]})"
      ]
     },
     "execution_count": 89,
     "metadata": {},
     "output_type": "execute_result"
    }
   ],
   "source": [
    "parameters = {'n_estimators':[10, 100, 500], 'max_depth':(10, 20, None)}\n",
    "\n",
    "rfr = RandomForestRegressor()\n",
    "\n",
    "GSRFconPCA = GridSearchCV(rfr, parameters)\n",
    "\n",
    "GSRFconPCA.fit(X_train_c, y_train_c)"
   ]
  },
  {
   "cell_type": "code",
   "execution_count": 90,
   "id": "9c66790a",
   "metadata": {
    "scrolled": true
   },
   "outputs": [
    {
     "name": "stdout",
     "output_type": "stream",
     "text": [
      "{'mean_fit_time': array([ 0.44899631,  4.49820275, 22.44498968,  0.76859832,  7.80539961,\n",
      "       39.0284102 ,  0.80159087,  8.03515906, 40.28356647]), 'std_fit_time': array([0.00190343, 0.02628393, 0.08593099, 0.0023326 , 0.05256966,\n",
      "       0.10410384, 0.00994381, 0.04250611, 0.23339213]), 'mean_score_time': array([0.00400424, 0.02760267, 0.12919908, 0.00500197, 0.04299483,\n",
      "       0.2104063 , 0.00560665, 0.04440169, 0.21660151]), 'std_score_time': array([6.33325269e-04, 2.22370205e-03, 4.72229218e-03, 9.58430826e-07,\n",
      "       1.10293867e-03, 4.40861267e-03, 7.97102522e-04, 7.99512984e-04,\n",
      "       4.79995413e-03]), 'param_max_depth': masked_array(data=[10, 10, 10, 20, 20, 20, None, None, None],\n",
      "             mask=[False, False, False, False, False, False, False, False,\n",
      "                   False],\n",
      "       fill_value='?',\n",
      "            dtype=object), 'param_n_estimators': masked_array(data=[10, 100, 500, 10, 100, 500, 10, 100, 500],\n",
      "             mask=[False, False, False, False, False, False, False, False,\n",
      "                   False],\n",
      "       fill_value='?',\n",
      "            dtype=object), 'params': [{'max_depth': 10, 'n_estimators': 10}, {'max_depth': 10, 'n_estimators': 100}, {'max_depth': 10, 'n_estimators': 500}, {'max_depth': 20, 'n_estimators': 10}, {'max_depth': 20, 'n_estimators': 100}, {'max_depth': 20, 'n_estimators': 500}, {'max_depth': None, 'n_estimators': 10}, {'max_depth': None, 'n_estimators': 100}, {'max_depth': None, 'n_estimators': 500}], 'split0_test_score': array([0.5280496 , 0.54969481, 0.55205008, 0.60215986, 0.62086732,\n",
      "       0.6243335 , 0.59353114, 0.6272228 , 0.62560103]), 'split1_test_score': array([0.53526443, 0.55908506, 0.56575151, 0.58678498, 0.63156589,\n",
      "       0.63624086, 0.61288788, 0.63133789, 0.63740176]), 'split2_test_score': array([0.55253906, 0.57532462, 0.57197713, 0.61373301, 0.6315158 ,\n",
      "       0.63022915, 0.57674563, 0.62204548, 0.62841674]), 'split3_test_score': array([0.51804787, 0.55660337, 0.56269378, 0.59990383, 0.62551222,\n",
      "       0.62829106, 0.60103007, 0.63065224, 0.62487632]), 'split4_test_score': array([0.58015642, 0.59208294, 0.59362062, 0.61282663, 0.66344818,\n",
      "       0.66341827, 0.60170933, 0.66415702, 0.66759022]), 'mean_test_score': array([0.54281148, 0.56655816, 0.56921863, 0.60308166, 0.63458188,\n",
      "       0.63650257, 0.59718081, 0.63508309, 0.63677721]), 'std_test_score': array([0.0218054 , 0.0152819 , 0.01380159, 0.00984831, 0.01498071,\n",
      "       0.01399567, 0.01194113, 0.01490447, 0.01603912]), 'rank_test_score': array([9, 8, 7, 5, 4, 2, 6, 3, 1])}\n"
     ]
    }
   ],
   "source": [
    "print(GSRFconPCA.cv_results_)\n"
   ]
  },
  {
   "cell_type": "markdown",
   "id": "01eeec46",
   "metadata": {},
   "source": [
    "El modelo mas eficiente es el cuarto, con mayor consistencia (max_depth': 15, 'n_estimators': 100) \n"
   ]
  },
  {
   "cell_type": "code",
   "execution_count": 91,
   "id": "361253e1",
   "metadata": {},
   "outputs": [],
   "source": [
    "y_pred_C_rf = GSRFconPCA.predict(X_test_c)"
   ]
  },
  {
   "cell_type": "code",
   "execution_count": 92,
   "id": "9ef755ab",
   "metadata": {},
   "outputs": [],
   "source": [
    "rfc2_C_mae = mean_absolute_error(y_test_c, y_pred_C_rf)\n",
    "rfc2_C_mse = mean_squared_error(y_test_c, y_pred_C_rf)\n",
    "rfc2_C_rmse = rfc2_C_mse**.5"
   ]
  },
  {
   "cell_type": "code",
   "execution_count": 93,
   "id": "cbdb0a0d",
   "metadata": {},
   "outputs": [],
   "source": [
    "data4 = ['Random Forest con PCA', rfc2_C_mae, rfc2_C_mse, rfc2_C_rmse] "
   ]
  },
  {
   "cell_type": "code",
   "execution_count": 94,
   "id": "71d59537",
   "metadata": {},
   "outputs": [
    {
     "name": "stdout",
     "output_type": "stream",
     "text": [
      "rfc2_C_mae=0.2720597196072738 \n",
      "rfc2_C_mse=0.1528512128277082 \n",
      "rfc2_C_rmse=0.39096190713125517 \n"
     ]
    }
   ],
   "source": [
    "print(f'{rfc2_C_mae=} \\n{rfc2_C_mse=} \\n{rfc2_C_rmse=} ')"
   ]
  },
  {
   "cell_type": "markdown",
   "id": "b9d4becf",
   "metadata": {},
   "source": [
    "#### XGBOOST"
   ]
  },
  {
   "cell_type": "code",
   "execution_count": 95,
   "id": "e5370392",
   "metadata": {},
   "outputs": [],
   "source": [
    "from xgboost import XGBRegressor "
   ]
  },
  {
   "cell_type": "markdown",
   "id": "35eb9456",
   "metadata": {},
   "source": [
    "SIN PCA"
   ]
  },
  {
   "cell_type": "code",
   "execution_count": 96,
   "id": "ead5b1ee",
   "metadata": {},
   "outputs": [
    {
     "data": {
      "text/html": [
       "<style>#sk-container-id-5 {color: black;}#sk-container-id-5 pre{padding: 0;}#sk-container-id-5 div.sk-toggleable {background-color: white;}#sk-container-id-5 label.sk-toggleable__label {cursor: pointer;display: block;width: 100%;margin-bottom: 0;padding: 0.3em;box-sizing: border-box;text-align: center;}#sk-container-id-5 label.sk-toggleable__label-arrow:before {content: \"▸\";float: left;margin-right: 0.25em;color: #696969;}#sk-container-id-5 label.sk-toggleable__label-arrow:hover:before {color: black;}#sk-container-id-5 div.sk-estimator:hover label.sk-toggleable__label-arrow:before {color: black;}#sk-container-id-5 div.sk-toggleable__content {max-height: 0;max-width: 0;overflow: hidden;text-align: left;background-color: #f0f8ff;}#sk-container-id-5 div.sk-toggleable__content pre {margin: 0.2em;color: black;border-radius: 0.25em;background-color: #f0f8ff;}#sk-container-id-5 input.sk-toggleable__control:checked~div.sk-toggleable__content {max-height: 200px;max-width: 100%;overflow: auto;}#sk-container-id-5 input.sk-toggleable__control:checked~label.sk-toggleable__label-arrow:before {content: \"▾\";}#sk-container-id-5 div.sk-estimator input.sk-toggleable__control:checked~label.sk-toggleable__label {background-color: #d4ebff;}#sk-container-id-5 div.sk-label input.sk-toggleable__control:checked~label.sk-toggleable__label {background-color: #d4ebff;}#sk-container-id-5 input.sk-hidden--visually {border: 0;clip: rect(1px 1px 1px 1px);clip: rect(1px, 1px, 1px, 1px);height: 1px;margin: -1px;overflow: hidden;padding: 0;position: absolute;width: 1px;}#sk-container-id-5 div.sk-estimator {font-family: monospace;background-color: #f0f8ff;border: 1px dotted black;border-radius: 0.25em;box-sizing: border-box;margin-bottom: 0.5em;}#sk-container-id-5 div.sk-estimator:hover {background-color: #d4ebff;}#sk-container-id-5 div.sk-parallel-item::after {content: \"\";width: 100%;border-bottom: 1px solid gray;flex-grow: 1;}#sk-container-id-5 div.sk-label:hover label.sk-toggleable__label {background-color: #d4ebff;}#sk-container-id-5 div.sk-serial::before {content: \"\";position: absolute;border-left: 1px solid gray;box-sizing: border-box;top: 0;bottom: 0;left: 50%;z-index: 0;}#sk-container-id-5 div.sk-serial {display: flex;flex-direction: column;align-items: center;background-color: white;padding-right: 0.2em;padding-left: 0.2em;position: relative;}#sk-container-id-5 div.sk-item {position: relative;z-index: 1;}#sk-container-id-5 div.sk-parallel {display: flex;align-items: stretch;justify-content: center;background-color: white;position: relative;}#sk-container-id-5 div.sk-item::before, #sk-container-id-5 div.sk-parallel-item::before {content: \"\";position: absolute;border-left: 1px solid gray;box-sizing: border-box;top: 0;bottom: 0;left: 50%;z-index: -1;}#sk-container-id-5 div.sk-parallel-item {display: flex;flex-direction: column;z-index: 1;position: relative;background-color: white;}#sk-container-id-5 div.sk-parallel-item:first-child::after {align-self: flex-end;width: 50%;}#sk-container-id-5 div.sk-parallel-item:last-child::after {align-self: flex-start;width: 50%;}#sk-container-id-5 div.sk-parallel-item:only-child::after {width: 0;}#sk-container-id-5 div.sk-dashed-wrapped {border: 1px dashed gray;margin: 0 0.4em 0.5em 0.4em;box-sizing: border-box;padding-bottom: 0.4em;background-color: white;}#sk-container-id-5 div.sk-label label {font-family: monospace;font-weight: bold;display: inline-block;line-height: 1.2em;}#sk-container-id-5 div.sk-label-container {text-align: center;}#sk-container-id-5 div.sk-container {/* jupyter's `normalize.less` sets `[hidden] { display: none; }` but bootstrap.min.css set `[hidden] { display: none !important; }` so we also need the `!important` here to be able to override the default hidden behavior on the sphinx rendered scikit-learn.org. See: https://github.com/scikit-learn/scikit-learn/issues/21755 */display: inline-block !important;position: relative;}#sk-container-id-5 div.sk-text-repr-fallback {display: none;}</style><div id=\"sk-container-id-5\" class=\"sk-top-container\"><div class=\"sk-text-repr-fallback\"><pre>GridSearchCV(estimator=XGBRegressor(base_score=None, booster=None,\n",
       "                                    callbacks=None, colsample_bylevel=None,\n",
       "                                    colsample_bynode=None,\n",
       "                                    colsample_bytree=None,\n",
       "                                    early_stopping_rounds=None,\n",
       "                                    enable_categorical=False, eval_metric=None,\n",
       "                                    feature_types=None, gamma=None, gpu_id=None,\n",
       "                                    grow_policy=None, importance_type=None,\n",
       "                                    interaction_constraints=None,\n",
       "                                    learning_rate=None, max_bin=None,\n",
       "                                    max_cat_threshold=None,\n",
       "                                    max_cat_to_onehot=None, max_delta_step=None,\n",
       "                                    max_depth=None, max_leaves=None,\n",
       "                                    min_child_weight=None, missing=nan,\n",
       "                                    monotone_constraints=None, n_estimators=100,\n",
       "                                    n_jobs=None, num_parallel_tree=None,\n",
       "                                    predictor=None, random_state=None, ...),\n",
       "             param_grid={&#x27;learning_rate&#x27;: [0.2, 0.5, 0.1],\n",
       "                         &#x27;max_depth&#x27;: (10, 20, None),\n",
       "                         &#x27;n_estimators&#x27;: [10, 100, 500]})</pre><b>In a Jupyter environment, please rerun this cell to show the HTML representation or trust the notebook. <br />On GitHub, the HTML representation is unable to render, please try loading this page with nbviewer.org.</b></div><div class=\"sk-container\" hidden><div class=\"sk-item sk-dashed-wrapped\"><div class=\"sk-label-container\"><div class=\"sk-label sk-toggleable\"><input class=\"sk-toggleable__control sk-hidden--visually\" id=\"sk-estimator-id-9\" type=\"checkbox\" ><label for=\"sk-estimator-id-9\" class=\"sk-toggleable__label sk-toggleable__label-arrow\">GridSearchCV</label><div class=\"sk-toggleable__content\"><pre>GridSearchCV(estimator=XGBRegressor(base_score=None, booster=None,\n",
       "                                    callbacks=None, colsample_bylevel=None,\n",
       "                                    colsample_bynode=None,\n",
       "                                    colsample_bytree=None,\n",
       "                                    early_stopping_rounds=None,\n",
       "                                    enable_categorical=False, eval_metric=None,\n",
       "                                    feature_types=None, gamma=None, gpu_id=None,\n",
       "                                    grow_policy=None, importance_type=None,\n",
       "                                    interaction_constraints=None,\n",
       "                                    learning_rate=None, max_bin=None,\n",
       "                                    max_cat_threshold=None,\n",
       "                                    max_cat_to_onehot=None, max_delta_step=None,\n",
       "                                    max_depth=None, max_leaves=None,\n",
       "                                    min_child_weight=None, missing=nan,\n",
       "                                    monotone_constraints=None, n_estimators=100,\n",
       "                                    n_jobs=None, num_parallel_tree=None,\n",
       "                                    predictor=None, random_state=None, ...),\n",
       "             param_grid={&#x27;learning_rate&#x27;: [0.2, 0.5, 0.1],\n",
       "                         &#x27;max_depth&#x27;: (10, 20, None),\n",
       "                         &#x27;n_estimators&#x27;: [10, 100, 500]})</pre></div></div></div><div class=\"sk-parallel\"><div class=\"sk-parallel-item\"><div class=\"sk-item\"><div class=\"sk-label-container\"><div class=\"sk-label sk-toggleable\"><input class=\"sk-toggleable__control sk-hidden--visually\" id=\"sk-estimator-id-10\" type=\"checkbox\" ><label for=\"sk-estimator-id-10\" class=\"sk-toggleable__label sk-toggleable__label-arrow\">estimator: XGBRegressor</label><div class=\"sk-toggleable__content\"><pre>XGBRegressor(base_score=None, booster=None, callbacks=None,\n",
       "             colsample_bylevel=None, colsample_bynode=None,\n",
       "             colsample_bytree=None, early_stopping_rounds=None,\n",
       "             enable_categorical=False, eval_metric=None, feature_types=None,\n",
       "             gamma=None, gpu_id=None, grow_policy=None, importance_type=None,\n",
       "             interaction_constraints=None, learning_rate=None, max_bin=None,\n",
       "             max_cat_threshold=None, max_cat_to_onehot=None,\n",
       "             max_delta_step=None, max_depth=None, max_leaves=None,\n",
       "             min_child_weight=None, missing=nan, monotone_constraints=None,\n",
       "             n_estimators=100, n_jobs=None, num_parallel_tree=None,\n",
       "             predictor=None, random_state=None, ...)</pre></div></div></div><div class=\"sk-serial\"><div class=\"sk-item\"><div class=\"sk-estimator sk-toggleable\"><input class=\"sk-toggleable__control sk-hidden--visually\" id=\"sk-estimator-id-11\" type=\"checkbox\" ><label for=\"sk-estimator-id-11\" class=\"sk-toggleable__label sk-toggleable__label-arrow\">XGBRegressor</label><div class=\"sk-toggleable__content\"><pre>XGBRegressor(base_score=None, booster=None, callbacks=None,\n",
       "             colsample_bylevel=None, colsample_bynode=None,\n",
       "             colsample_bytree=None, early_stopping_rounds=None,\n",
       "             enable_categorical=False, eval_metric=None, feature_types=None,\n",
       "             gamma=None, gpu_id=None, grow_policy=None, importance_type=None,\n",
       "             interaction_constraints=None, learning_rate=None, max_bin=None,\n",
       "             max_cat_threshold=None, max_cat_to_onehot=None,\n",
       "             max_delta_step=None, max_depth=None, max_leaves=None,\n",
       "             min_child_weight=None, missing=nan, monotone_constraints=None,\n",
       "             n_estimators=100, n_jobs=None, num_parallel_tree=None,\n",
       "             predictor=None, random_state=None, ...)</pre></div></div></div></div></div></div></div></div></div></div>"
      ],
      "text/plain": [
       "GridSearchCV(estimator=XGBRegressor(base_score=None, booster=None,\n",
       "                                    callbacks=None, colsample_bylevel=None,\n",
       "                                    colsample_bynode=None,\n",
       "                                    colsample_bytree=None,\n",
       "                                    early_stopping_rounds=None,\n",
       "                                    enable_categorical=False, eval_metric=None,\n",
       "                                    feature_types=None, gamma=None, gpu_id=None,\n",
       "                                    grow_policy=None, importance_type=None,\n",
       "                                    interaction_constraints=None,\n",
       "                                    learning_rate=None, max_bin=None,\n",
       "                                    max_cat_threshold=None,\n",
       "                                    max_cat_to_onehot=None, max_delta_step=None,\n",
       "                                    max_depth=None, max_leaves=None,\n",
       "                                    min_child_weight=None, missing=nan,\n",
       "                                    monotone_constraints=None, n_estimators=100,\n",
       "                                    n_jobs=None, num_parallel_tree=None,\n",
       "                                    predictor=None, random_state=None, ...),\n",
       "             param_grid={'learning_rate': [0.2, 0.5, 0.1],\n",
       "                         'max_depth': (10, 20, None),\n",
       "                         'n_estimators': [10, 100, 500]})"
      ]
     },
     "execution_count": 96,
     "metadata": {},
     "output_type": "execute_result"
    }
   ],
   "source": [
    "xgb = XGBRegressor()\n",
    "\n",
    "parameters = {'learning_rate':[0.2, 0.5, 0.1], 'max_depth':(10, 20, None), 'n_estimators':[10, 100, 500]}\n",
    "\n",
    "xgb.fit(X_train_S, y_train_S)\n",
    "\n",
    "GSXGBsinPCA = GridSearchCV(xgb, parameters)\n",
    "\n",
    "GSXGBsinPCA.fit(X_train_S, y_train_S)"
   ]
  },
  {
   "cell_type": "code",
   "execution_count": 97,
   "id": "aeb85b32",
   "metadata": {},
   "outputs": [],
   "source": [
    "with open('modelo_final.sav', \"wb\") as f:\n",
    "    pickle.dump(GSXGBsinPCA, f)"
   ]
  },
  {
   "cell_type": "code",
   "execution_count": 98,
   "id": "2d10b255",
   "metadata": {},
   "outputs": [
    {
     "name": "stdout",
     "output_type": "stream",
     "text": [
      "{'mean_fit_time': array([0.04760094, 0.65320039, 3.78660026, 0.06040154, 1.69439945,\n",
      "       4.07040005, 0.04980259, 0.4997992 , 2.52100139, 0.08400254,\n",
      "       0.85780067, 3.08360047, 0.15640235, 1.36839986, 1.86060057,\n",
      "       0.05860167, 0.54160032, 2.59860029, 0.04780154, 0.82699947,\n",
      "       4.40320039, 0.04960341, 1.71919932, 8.0651999 , 0.04720154,\n",
      "       0.54479938, 2.79600086]), 'std_fit_time': array([0.00048956, 0.0061115 , 0.34068122, 0.00101905, 0.02518306,\n",
      "       0.16828869, 0.00040069, 0.00630647, 0.02229824, 0.00126467,\n",
      "       0.0041649 , 0.05556382, 0.00162352, 0.04089762, 0.05436149,\n",
      "       0.00224423, 0.00567904, 0.01636555, 0.00097934, 0.00189708,\n",
      "       0.01845279, 0.00101982, 0.01596777, 0.29154742, 0.00116607,\n",
      "       0.00247924, 0.04112385]), 'mean_score_time': array([0.00359883, 0.00500007, 0.01300049, 0.00379901, 0.00820127,\n",
      "       0.01640091, 0.00399809, 0.00520129, 0.0091989 , 0.00419788,\n",
      "       0.00599952, 0.01080112, 0.00439882, 0.00860043, 0.00879908,\n",
      "       0.00439992, 0.00539961, 0.00959973, 0.00419917, 0.00620136,\n",
      "       0.01479955, 0.0045969 , 0.00840216, 0.02679987, 0.00439844,\n",
      "       0.00560017, 0.01099944]), 'std_score_time': array([4.89612498e-04, 6.33014400e-04, 1.78797904e-03, 3.99735448e-04,\n",
      "       4.00948989e-04, 3.32273033e-03, 1.84308511e-06, 4.00092985e-04,\n",
      "       4.00426144e-04, 3.99805121e-04, 6.64157308e-07, 7.46111513e-04,\n",
      "       4.90566398e-04, 8.00470365e-04, 7.48713665e-04, 4.90158276e-04,\n",
      "       4.90838475e-04, 4.89049322e-04, 3.99520983e-04, 3.99901825e-04,\n",
      "       4.00997863e-04, 4.89844961e-04, 4.90429449e-04, 1.93988186e-03,\n",
      "       4.90292017e-04, 4.91795416e-04, 1.09532632e-03]), 'param_learning_rate': masked_array(data=[0.2, 0.2, 0.2, 0.2, 0.2, 0.2, 0.2, 0.2, 0.2, 0.5, 0.5,\n",
      "                   0.5, 0.5, 0.5, 0.5, 0.5, 0.5, 0.5, 0.1, 0.1, 0.1, 0.1,\n",
      "                   0.1, 0.1, 0.1, 0.1, 0.1],\n",
      "             mask=[False, False, False, False, False, False, False, False,\n",
      "                   False, False, False, False, False, False, False, False,\n",
      "                   False, False, False, False, False, False, False, False,\n",
      "                   False, False, False],\n",
      "       fill_value='?',\n",
      "            dtype=object), 'param_max_depth': masked_array(data=[10, 10, 10, 20, 20, 20, None, None, None, 10, 10, 10,\n",
      "                   20, 20, 20, None, None, None, 10, 10, 10, 20, 20, 20,\n",
      "                   None, None, None],\n",
      "             mask=[False, False, False, False, False, False, False, False,\n",
      "                   False, False, False, False, False, False, False, False,\n",
      "                   False, False, False, False, False, False, False, False,\n",
      "                   False, False, False],\n",
      "       fill_value='?',\n",
      "            dtype=object), 'param_n_estimators': masked_array(data=[10, 100, 500, 10, 100, 500, 10, 100, 500, 10, 100, 500,\n",
      "                   10, 100, 500, 10, 100, 500, 10, 100, 500, 10, 100, 500,\n",
      "                   10, 100, 500],\n",
      "             mask=[False, False, False, False, False, False, False, False,\n",
      "                   False, False, False, False, False, False, False, False,\n",
      "                   False, False, False, False, False, False, False, False,\n",
      "                   False, False, False],\n",
      "       fill_value='?',\n",
      "            dtype=object), 'params': [{'learning_rate': 0.2, 'max_depth': 10, 'n_estimators': 10}, {'learning_rate': 0.2, 'max_depth': 10, 'n_estimators': 100}, {'learning_rate': 0.2, 'max_depth': 10, 'n_estimators': 500}, {'learning_rate': 0.2, 'max_depth': 20, 'n_estimators': 10}, {'learning_rate': 0.2, 'max_depth': 20, 'n_estimators': 100}, {'learning_rate': 0.2, 'max_depth': 20, 'n_estimators': 500}, {'learning_rate': 0.2, 'max_depth': None, 'n_estimators': 10}, {'learning_rate': 0.2, 'max_depth': None, 'n_estimators': 100}, {'learning_rate': 0.2, 'max_depth': None, 'n_estimators': 500}, {'learning_rate': 0.5, 'max_depth': 10, 'n_estimators': 10}, {'learning_rate': 0.5, 'max_depth': 10, 'n_estimators': 100}, {'learning_rate': 0.5, 'max_depth': 10, 'n_estimators': 500}, {'learning_rate': 0.5, 'max_depth': 20, 'n_estimators': 10}, {'learning_rate': 0.5, 'max_depth': 20, 'n_estimators': 100}, {'learning_rate': 0.5, 'max_depth': 20, 'n_estimators': 500}, {'learning_rate': 0.5, 'max_depth': None, 'n_estimators': 10}, {'learning_rate': 0.5, 'max_depth': None, 'n_estimators': 100}, {'learning_rate': 0.5, 'max_depth': None, 'n_estimators': 500}, {'learning_rate': 0.1, 'max_depth': 10, 'n_estimators': 10}, {'learning_rate': 0.1, 'max_depth': 10, 'n_estimators': 100}, {'learning_rate': 0.1, 'max_depth': 10, 'n_estimators': 500}, {'learning_rate': 0.1, 'max_depth': 20, 'n_estimators': 10}, {'learning_rate': 0.1, 'max_depth': 20, 'n_estimators': 100}, {'learning_rate': 0.1, 'max_depth': 20, 'n_estimators': 500}, {'learning_rate': 0.1, 'max_depth': None, 'n_estimators': 10}, {'learning_rate': 0.1, 'max_depth': None, 'n_estimators': 100}, {'learning_rate': 0.1, 'max_depth': None, 'n_estimators': 500}], 'split0_test_score': array([ -1.5801414 ,   0.67628823,   0.6486275 ,  -1.5809616 ,\n",
      "         0.66044152,   0.6575964 ,  -1.59911965,   0.68182612,\n",
      "         0.66263413,   0.65087324,   0.62647456,   0.61682497,\n",
      "         0.6267069 ,   0.60702317,   0.60702317,   0.66241203,\n",
      "         0.65182535,   0.61954277, -22.49123285,   0.6868722 ,\n",
      "         0.6651888 , -22.49123285,   0.65884709,   0.64963745,\n",
      "       -22.48472483,   0.68178211,   0.67125251]), 'split1_test_score': array([ -1.51427815,   0.70935535,   0.68964382,  -1.51457038,\n",
      "         0.68493694,   0.68054538,  -1.50934797,   0.71316474,\n",
      "         0.68727824,   0.6915816 ,   0.66649854,   0.65856279,\n",
      "         0.66056586,   0.64494445,   0.64494445,   0.68968769,\n",
      "         0.67319837,   0.63296498, -21.84715722,   0.71508148,\n",
      "         0.69201696, -21.84715722,   0.69691264,   0.68732138,\n",
      "       -21.83049399,   0.71709179,   0.70477166]), 'split2_test_score': array([ -1.34289786,   0.68386108,   0.65863486,  -1.34834066,\n",
      "         0.67117392,   0.66815261,  -1.33100395,   0.7016628 ,\n",
      "         0.67496141,   0.66725929,   0.63367333,   0.62640026,\n",
      "         0.63823345,   0.62681118,   0.62681118,   0.68502739,\n",
      "         0.66255363,   0.62483105, -20.42776602,   0.6944925 ,\n",
      "         0.67554297, -20.42776602,   0.6872422 ,   0.67261575,\n",
      "       -20.42446543,   0.69805701,   0.68230325]), 'split3_test_score': array([ -1.37149185,   0.68574684,   0.66693144,  -1.37321221,\n",
      "         0.67489745,   0.67197398,  -1.37786195,   0.68869553,\n",
      "         0.68507669,   0.66855426,   0.64660187,   0.64022983,\n",
      "         0.65849895,   0.64354887,   0.64354887,   0.66653055,\n",
      "         0.65063536,   0.62456584, -20.72910956,   0.70298682,\n",
      "         0.68620395, -20.72910956,   0.69035307,   0.67907494,\n",
      "       -20.72777257,   0.69436088,   0.6884657 ]), 'split4_test_score': array([ -1.59578071,   0.66789103,   0.64429347,  -1.59585553,\n",
      "         0.64269561,   0.64036238,  -1.60410104,   0.66564265,\n",
      "         0.64430196,   0.63131192,   0.60019554,   0.58931387,\n",
      "         0.60475612,   0.58884947,   0.58884947,   0.62073332,\n",
      "         0.62214114,   0.5886026 , -22.31557001,   0.67103875,\n",
      "         0.65552391, -22.31557001,   0.65937747,   0.65013553,\n",
      "       -22.31173398,   0.66929605,   0.66699629]), 'mean_test_score': array([ -1.48091799,   0.68462851,   0.66162622,  -1.48258808,\n",
      "         0.66682909,   0.66372615,  -1.48428691,   0.69019837,\n",
      "         0.67085049,   0.66191606,   0.63468877,   0.62626634,\n",
      "         0.63775226,   0.62223543,   0.62223543,   0.66487819,\n",
      "         0.65207077,   0.61810145, -21.56216713,   0.69409435,\n",
      "         0.67489532, -21.56216713,   0.67854649,   0.66775701,\n",
      "       -21.55583816,   0.69211757,   0.68275788]), 'std_test_score': array([0.10504786, 0.01387775, 0.01607153, 0.10345548, 0.01438816,\n",
      "       0.01381265, 0.11224258, 0.01633538, 0.01588388, 0.02005601,\n",
      "       0.02196393, 0.02320639, 0.02079357, 0.02161913, 0.02161913,\n",
      "       0.02440935, 0.01705385, 0.01536398, 0.8358049 , 0.0148554 ,\n",
      "       0.01334858, 0.8358049 , 0.01617309, 0.01531863, 0.83370758,\n",
      "       0.01607274, 0.01340294]), 'rank_test_score': array([22,  4, 14, 23, 10, 12, 24,  3,  8, 13, 17, 18, 16, 19, 19, 11, 15,\n",
      "       21, 26,  1,  7, 26,  6,  9, 25,  2,  5])}\n"
     ]
    }
   ],
   "source": [
    "print(GSXGBsinPCA.cv_results_)"
   ]
  },
  {
   "cell_type": "code",
   "execution_count": 99,
   "id": "a8b2b981",
   "metadata": {},
   "outputs": [],
   "source": [
    "y_pred_S_xb = GSXGBsinPCA.predict(X_test_S)"
   ]
  },
  {
   "cell_type": "code",
   "execution_count": 100,
   "id": "654ae448",
   "metadata": {},
   "outputs": [],
   "source": [
    "xgbS_mae = mean_absolute_error(y_test_S, y_pred_S_xb)\n",
    "xgbS_mse = mean_squared_error(y_test_S, y_pred_S_xb)\n",
    "xgbS_rmse = xgbS_mse**.5\n"
   ]
  },
  {
   "cell_type": "code",
   "execution_count": 101,
   "id": "56c898aa",
   "metadata": {},
   "outputs": [
    {
     "name": "stdout",
     "output_type": "stream",
     "text": [
      "xgbS_mae=0.266886988952141 \n",
      "xgbS_mse=0.14126263552558183 \n",
      "xgbS_rmse=0.37584921913658653 \n"
     ]
    }
   ],
   "source": [
    "print(f'{xgbS_mae=} \\n{xgbS_mse=} \\n{xgbS_rmse=} ')"
   ]
  },
  {
   "cell_type": "code",
   "execution_count": 102,
   "id": "fdc110bc",
   "metadata": {},
   "outputs": [],
   "source": [
    "data5 = ['XGBoost sin PCA', xgbS_mae, xgbS_mse, xgbS_rmse] "
   ]
  },
  {
   "cell_type": "markdown",
   "id": "fa7561da",
   "metadata": {},
   "source": [
    "Con PCA"
   ]
  },
  {
   "cell_type": "code",
   "execution_count": 103,
   "id": "4e3934dd",
   "metadata": {},
   "outputs": [
    {
     "data": {
      "text/html": [
       "<style>#sk-container-id-6 {color: black;}#sk-container-id-6 pre{padding: 0;}#sk-container-id-6 div.sk-toggleable {background-color: white;}#sk-container-id-6 label.sk-toggleable__label {cursor: pointer;display: block;width: 100%;margin-bottom: 0;padding: 0.3em;box-sizing: border-box;text-align: center;}#sk-container-id-6 label.sk-toggleable__label-arrow:before {content: \"▸\";float: left;margin-right: 0.25em;color: #696969;}#sk-container-id-6 label.sk-toggleable__label-arrow:hover:before {color: black;}#sk-container-id-6 div.sk-estimator:hover label.sk-toggleable__label-arrow:before {color: black;}#sk-container-id-6 div.sk-toggleable__content {max-height: 0;max-width: 0;overflow: hidden;text-align: left;background-color: #f0f8ff;}#sk-container-id-6 div.sk-toggleable__content pre {margin: 0.2em;color: black;border-radius: 0.25em;background-color: #f0f8ff;}#sk-container-id-6 input.sk-toggleable__control:checked~div.sk-toggleable__content {max-height: 200px;max-width: 100%;overflow: auto;}#sk-container-id-6 input.sk-toggleable__control:checked~label.sk-toggleable__label-arrow:before {content: \"▾\";}#sk-container-id-6 div.sk-estimator input.sk-toggleable__control:checked~label.sk-toggleable__label {background-color: #d4ebff;}#sk-container-id-6 div.sk-label input.sk-toggleable__control:checked~label.sk-toggleable__label {background-color: #d4ebff;}#sk-container-id-6 input.sk-hidden--visually {border: 0;clip: rect(1px 1px 1px 1px);clip: rect(1px, 1px, 1px, 1px);height: 1px;margin: -1px;overflow: hidden;padding: 0;position: absolute;width: 1px;}#sk-container-id-6 div.sk-estimator {font-family: monospace;background-color: #f0f8ff;border: 1px dotted black;border-radius: 0.25em;box-sizing: border-box;margin-bottom: 0.5em;}#sk-container-id-6 div.sk-estimator:hover {background-color: #d4ebff;}#sk-container-id-6 div.sk-parallel-item::after {content: \"\";width: 100%;border-bottom: 1px solid gray;flex-grow: 1;}#sk-container-id-6 div.sk-label:hover label.sk-toggleable__label {background-color: #d4ebff;}#sk-container-id-6 div.sk-serial::before {content: \"\";position: absolute;border-left: 1px solid gray;box-sizing: border-box;top: 0;bottom: 0;left: 50%;z-index: 0;}#sk-container-id-6 div.sk-serial {display: flex;flex-direction: column;align-items: center;background-color: white;padding-right: 0.2em;padding-left: 0.2em;position: relative;}#sk-container-id-6 div.sk-item {position: relative;z-index: 1;}#sk-container-id-6 div.sk-parallel {display: flex;align-items: stretch;justify-content: center;background-color: white;position: relative;}#sk-container-id-6 div.sk-item::before, #sk-container-id-6 div.sk-parallel-item::before {content: \"\";position: absolute;border-left: 1px solid gray;box-sizing: border-box;top: 0;bottom: 0;left: 50%;z-index: -1;}#sk-container-id-6 div.sk-parallel-item {display: flex;flex-direction: column;z-index: 1;position: relative;background-color: white;}#sk-container-id-6 div.sk-parallel-item:first-child::after {align-self: flex-end;width: 50%;}#sk-container-id-6 div.sk-parallel-item:last-child::after {align-self: flex-start;width: 50%;}#sk-container-id-6 div.sk-parallel-item:only-child::after {width: 0;}#sk-container-id-6 div.sk-dashed-wrapped {border: 1px dashed gray;margin: 0 0.4em 0.5em 0.4em;box-sizing: border-box;padding-bottom: 0.4em;background-color: white;}#sk-container-id-6 div.sk-label label {font-family: monospace;font-weight: bold;display: inline-block;line-height: 1.2em;}#sk-container-id-6 div.sk-label-container {text-align: center;}#sk-container-id-6 div.sk-container {/* jupyter's `normalize.less` sets `[hidden] { display: none; }` but bootstrap.min.css set `[hidden] { display: none !important; }` so we also need the `!important` here to be able to override the default hidden behavior on the sphinx rendered scikit-learn.org. See: https://github.com/scikit-learn/scikit-learn/issues/21755 */display: inline-block !important;position: relative;}#sk-container-id-6 div.sk-text-repr-fallback {display: none;}</style><div id=\"sk-container-id-6\" class=\"sk-top-container\"><div class=\"sk-text-repr-fallback\"><pre>GridSearchCV(estimator=XGBRegressor(base_score=None, booster=None,\n",
       "                                    callbacks=None, colsample_bylevel=None,\n",
       "                                    colsample_bynode=None,\n",
       "                                    colsample_bytree=None,\n",
       "                                    early_stopping_rounds=None,\n",
       "                                    enable_categorical=False, eval_metric=None,\n",
       "                                    feature_types=None, gamma=None, gpu_id=None,\n",
       "                                    grow_policy=None, importance_type=None,\n",
       "                                    interaction_constraints=None,\n",
       "                                    learning_rate=None, max_bin=None,\n",
       "                                    max_cat_threshold=None,\n",
       "                                    max_cat_to_onehot=None, max_delta_step=None,\n",
       "                                    max_depth=None, max_leaves=None,\n",
       "                                    min_child_weight=None, missing=nan,\n",
       "                                    monotone_constraints=None, n_estimators=100,\n",
       "                                    n_jobs=None, num_parallel_tree=None,\n",
       "                                    predictor=None, random_state=None, ...),\n",
       "             param_grid={&#x27;learning_rate&#x27;: [0.2, 0.5, 0.1],\n",
       "                         &#x27;max_depth&#x27;: (10, 20, None)})</pre><b>In a Jupyter environment, please rerun this cell to show the HTML representation or trust the notebook. <br />On GitHub, the HTML representation is unable to render, please try loading this page with nbviewer.org.</b></div><div class=\"sk-container\" hidden><div class=\"sk-item sk-dashed-wrapped\"><div class=\"sk-label-container\"><div class=\"sk-label sk-toggleable\"><input class=\"sk-toggleable__control sk-hidden--visually\" id=\"sk-estimator-id-12\" type=\"checkbox\" ><label for=\"sk-estimator-id-12\" class=\"sk-toggleable__label sk-toggleable__label-arrow\">GridSearchCV</label><div class=\"sk-toggleable__content\"><pre>GridSearchCV(estimator=XGBRegressor(base_score=None, booster=None,\n",
       "                                    callbacks=None, colsample_bylevel=None,\n",
       "                                    colsample_bynode=None,\n",
       "                                    colsample_bytree=None,\n",
       "                                    early_stopping_rounds=None,\n",
       "                                    enable_categorical=False, eval_metric=None,\n",
       "                                    feature_types=None, gamma=None, gpu_id=None,\n",
       "                                    grow_policy=None, importance_type=None,\n",
       "                                    interaction_constraints=None,\n",
       "                                    learning_rate=None, max_bin=None,\n",
       "                                    max_cat_threshold=None,\n",
       "                                    max_cat_to_onehot=None, max_delta_step=None,\n",
       "                                    max_depth=None, max_leaves=None,\n",
       "                                    min_child_weight=None, missing=nan,\n",
       "                                    monotone_constraints=None, n_estimators=100,\n",
       "                                    n_jobs=None, num_parallel_tree=None,\n",
       "                                    predictor=None, random_state=None, ...),\n",
       "             param_grid={&#x27;learning_rate&#x27;: [0.2, 0.5, 0.1],\n",
       "                         &#x27;max_depth&#x27;: (10, 20, None)})</pre></div></div></div><div class=\"sk-parallel\"><div class=\"sk-parallel-item\"><div class=\"sk-item\"><div class=\"sk-label-container\"><div class=\"sk-label sk-toggleable\"><input class=\"sk-toggleable__control sk-hidden--visually\" id=\"sk-estimator-id-13\" type=\"checkbox\" ><label for=\"sk-estimator-id-13\" class=\"sk-toggleable__label sk-toggleable__label-arrow\">estimator: XGBRegressor</label><div class=\"sk-toggleable__content\"><pre>XGBRegressor(base_score=None, booster=None, callbacks=None,\n",
       "             colsample_bylevel=None, colsample_bynode=None,\n",
       "             colsample_bytree=None, early_stopping_rounds=None,\n",
       "             enable_categorical=False, eval_metric=None, feature_types=None,\n",
       "             gamma=None, gpu_id=None, grow_policy=None, importance_type=None,\n",
       "             interaction_constraints=None, learning_rate=None, max_bin=None,\n",
       "             max_cat_threshold=None, max_cat_to_onehot=None,\n",
       "             max_delta_step=None, max_depth=None, max_leaves=None,\n",
       "             min_child_weight=None, missing=nan, monotone_constraints=None,\n",
       "             n_estimators=100, n_jobs=None, num_parallel_tree=None,\n",
       "             predictor=None, random_state=None, ...)</pre></div></div></div><div class=\"sk-serial\"><div class=\"sk-item\"><div class=\"sk-estimator sk-toggleable\"><input class=\"sk-toggleable__control sk-hidden--visually\" id=\"sk-estimator-id-14\" type=\"checkbox\" ><label for=\"sk-estimator-id-14\" class=\"sk-toggleable__label sk-toggleable__label-arrow\">XGBRegressor</label><div class=\"sk-toggleable__content\"><pre>XGBRegressor(base_score=None, booster=None, callbacks=None,\n",
       "             colsample_bylevel=None, colsample_bynode=None,\n",
       "             colsample_bytree=None, early_stopping_rounds=None,\n",
       "             enable_categorical=False, eval_metric=None, feature_types=None,\n",
       "             gamma=None, gpu_id=None, grow_policy=None, importance_type=None,\n",
       "             interaction_constraints=None, learning_rate=None, max_bin=None,\n",
       "             max_cat_threshold=None, max_cat_to_onehot=None,\n",
       "             max_delta_step=None, max_depth=None, max_leaves=None,\n",
       "             min_child_weight=None, missing=nan, monotone_constraints=None,\n",
       "             n_estimators=100, n_jobs=None, num_parallel_tree=None,\n",
       "             predictor=None, random_state=None, ...)</pre></div></div></div></div></div></div></div></div></div></div>"
      ],
      "text/plain": [
       "GridSearchCV(estimator=XGBRegressor(base_score=None, booster=None,\n",
       "                                    callbacks=None, colsample_bylevel=None,\n",
       "                                    colsample_bynode=None,\n",
       "                                    colsample_bytree=None,\n",
       "                                    early_stopping_rounds=None,\n",
       "                                    enable_categorical=False, eval_metric=None,\n",
       "                                    feature_types=None, gamma=None, gpu_id=None,\n",
       "                                    grow_policy=None, importance_type=None,\n",
       "                                    interaction_constraints=None,\n",
       "                                    learning_rate=None, max_bin=None,\n",
       "                                    max_cat_threshold=None,\n",
       "                                    max_cat_to_onehot=None, max_delta_step=None,\n",
       "                                    max_depth=None, max_leaves=None,\n",
       "                                    min_child_weight=None, missing=nan,\n",
       "                                    monotone_constraints=None, n_estimators=100,\n",
       "                                    n_jobs=None, num_parallel_tree=None,\n",
       "                                    predictor=None, random_state=None, ...),\n",
       "             param_grid={'learning_rate': [0.2, 0.5, 0.1],\n",
       "                         'max_depth': (10, 20, None)})"
      ]
     },
     "execution_count": 103,
     "metadata": {},
     "output_type": "execute_result"
    }
   ],
   "source": [
    "xgb = XGBRegressor()\n",
    "\n",
    "parameters = {'learning_rate':[0.2, 0.5, 0.1], 'max_depth':(10, 20, None)}\n",
    "\n",
    "xgb.fit(X_train_c, y_train_c)\n",
    "\n",
    "GSXGBconPCA = GridSearchCV(xgb, parameters)\n",
    "\n",
    "GSXGBconPCA.fit(X_train_c, y_train_c)"
   ]
  },
  {
   "cell_type": "code",
   "execution_count": 104,
   "id": "02184a9a",
   "metadata": {},
   "outputs": [
    {
     "name": "stdout",
     "output_type": "stream",
     "text": [
      "{'mean_fit_time': array([1.07679939, 2.2155992 , 0.67499919, 1.12239833, 1.75100055,\n",
      "       0.64300017, 1.02560105, 2.05680132, 0.63099833]), 'std_fit_time': array([0.01098119, 0.02173161, 0.01392728, 0.02271949, 0.06319159,\n",
      "       0.00328631, 0.00320047, 0.01724385, 0.00485862]), 'mean_score_time': array([0.00680113, 0.00980182, 0.00620089, 0.00720091, 0.00859942,\n",
      "       0.00540042, 0.00659871, 0.00939999, 0.00560064]), 'std_score_time': array([0.00039911, 0.00040124, 0.00039931, 0.00040045, 0.00048932,\n",
      "       0.00049008, 0.00048969, 0.00049127, 0.00049043]), 'param_learning_rate': masked_array(data=[0.2, 0.2, 0.2, 0.5, 0.5, 0.5, 0.1, 0.1, 0.1],\n",
      "             mask=[False, False, False, False, False, False, False, False,\n",
      "                   False],\n",
      "       fill_value='?',\n",
      "            dtype=object), 'param_max_depth': masked_array(data=[10, 20, None, 10, 20, None, 10, 20, None],\n",
      "             mask=[False, False, False, False, False, False, False, False,\n",
      "                   False],\n",
      "       fill_value='?',\n",
      "            dtype=object), 'params': [{'learning_rate': 0.2, 'max_depth': 10}, {'learning_rate': 0.2, 'max_depth': 20}, {'learning_rate': 0.2, 'max_depth': None}, {'learning_rate': 0.5, 'max_depth': 10}, {'learning_rate': 0.5, 'max_depth': 20}, {'learning_rate': 0.5, 'max_depth': None}, {'learning_rate': 0.1, 'max_depth': 10}, {'learning_rate': 0.1, 'max_depth': 20}, {'learning_rate': 0.1, 'max_depth': None}], 'split0_test_score': array([0.58805948, 0.5736636 , 0.58829977, 0.54516601, 0.52677308,\n",
      "       0.56194089, 0.60965994, 0.58600326, 0.58200416]), 'split1_test_score': array([0.61167599, 0.59292815, 0.60376575, 0.57089179, 0.56853466,\n",
      "       0.56734622, 0.62159665, 0.60534391, 0.60432486]), 'split2_test_score': array([0.59741074, 0.57367257, 0.60408913, 0.56349433, 0.52742993,\n",
      "       0.57701477, 0.61165043, 0.59469133, 0.58740405]), 'split3_test_score': array([0.60255598, 0.56304015, 0.59957797, 0.55410162, 0.53017979,\n",
      "       0.54961584, 0.61031764, 0.59873256, 0.58150793]), 'split4_test_score': array([0.65320502, 0.62376178, 0.63304628, 0.60798187, 0.5515775 ,\n",
      "       0.58921902, 0.65876705, 0.65719617, 0.62681789]), 'mean_test_score': array([0.61058144, 0.58541325, 0.60575578, 0.56832712, 0.54089899,\n",
      "       0.56902735, 0.62239834, 0.60839345, 0.59641178]), 'std_test_score': array([0.02264103, 0.02146409, 0.0147945 , 0.02163901, 0.01657479,\n",
      "       0.01342649, 0.01869253, 0.02519288, 0.01730891]), 'rank_test_score': array([2, 6, 4, 8, 9, 7, 1, 3, 5])}\n"
     ]
    }
   ],
   "source": [
    "print(GSXGBconPCA.cv_results_)"
   ]
  },
  {
   "cell_type": "code",
   "execution_count": 105,
   "id": "bf0d18f8",
   "metadata": {},
   "outputs": [],
   "source": [
    "y_pred_C_xb = GSXGBconPCA.predict(X_test_c)"
   ]
  },
  {
   "cell_type": "code",
   "execution_count": 106,
   "id": "1e48d2f4",
   "metadata": {},
   "outputs": [],
   "source": [
    "xgb_C_mae = mean_absolute_error(y_test_c, y_pred_C_xb)\n",
    "xgb_C_mse = mean_squared_error(y_test_c, y_pred_C_xb)\n",
    "xgb_C_rmse = xgb_C_mse**.5"
   ]
  },
  {
   "cell_type": "code",
   "execution_count": 107,
   "id": "d4ab11c0",
   "metadata": {},
   "outputs": [],
   "source": [
    "data6 = ['XGBoost con PCA',  xgb_C_mae, xgb_C_mse, xgb_C_rmse] "
   ]
  },
  {
   "cell_type": "code",
   "execution_count": 108,
   "id": "6140ba46",
   "metadata": {},
   "outputs": [
    {
     "name": "stdout",
     "output_type": "stream",
     "text": [
      "xgb_C_mae=0.2804808471155282 \n",
      "xgb_C_mse=0.15954001324839698 \n",
      "xgb_C_rmse=0.3994246027079416 \n"
     ]
    }
   ],
   "source": [
    "print(f'{xgb_C_mae=} \\n{xgb_C_mse=} \\n{xgb_C_rmse=} ')"
   ]
  },
  {
   "cell_type": "code",
   "execution_count": 109,
   "id": "0afbd823",
   "metadata": {},
   "outputs": [],
   "source": [
    "columns = data0\n",
    "\n",
    "resultados = pd.DataFrame( [data1,  \n",
    "                            data2, \n",
    "                            data3,  \n",
    "                            data4,  \n",
    "                            data5,\n",
    "                            data6\n",
    "                           ],  columns=columns)"
   ]
  },
  {
   "cell_type": "markdown",
   "id": "f33e3fc8",
   "metadata": {},
   "source": [
    "### Tabla Reporte Resultado Modelos"
   ]
  },
  {
   "cell_type": "code",
   "execution_count": 110,
   "id": "491ba4c0",
   "metadata": {},
   "outputs": [
    {
     "data": {
      "text/html": [
       "<div>\n",
       "<style scoped>\n",
       "    .dataframe tbody tr th:only-of-type {\n",
       "        vertical-align: middle;\n",
       "    }\n",
       "\n",
       "    .dataframe tbody tr th {\n",
       "        vertical-align: top;\n",
       "    }\n",
       "\n",
       "    .dataframe thead th {\n",
       "        text-align: right;\n",
       "    }\n",
       "</style>\n",
       "<table border=\"1\" class=\"dataframe\">\n",
       "  <thead>\n",
       "    <tr style=\"text-align: right;\">\n",
       "      <th></th>\n",
       "      <th>Modelo</th>\n",
       "      <th>mae</th>\n",
       "      <th>mse</th>\n",
       "      <th>sqmse</th>\n",
       "    </tr>\n",
       "  </thead>\n",
       "  <tbody>\n",
       "    <tr>\n",
       "      <th>0</th>\n",
       "      <td>Regresion Lineal sin PCA</td>\n",
       "      <td>0.523260</td>\n",
       "      <td>0.523260</td>\n",
       "      <td>0.678585</td>\n",
       "    </tr>\n",
       "    <tr>\n",
       "      <th>1</th>\n",
       "      <td>Regresion Lineal con PCA</td>\n",
       "      <td>0.511748</td>\n",
       "      <td>0.450577</td>\n",
       "      <td>0.671250</td>\n",
       "    </tr>\n",
       "    <tr>\n",
       "      <th>2</th>\n",
       "      <td>Random Forest sin PCA</td>\n",
       "      <td>0.271410</td>\n",
       "      <td>0.144566</td>\n",
       "      <td>0.380218</td>\n",
       "    </tr>\n",
       "    <tr>\n",
       "      <th>3</th>\n",
       "      <td>Random Forest con PCA</td>\n",
       "      <td>0.272060</td>\n",
       "      <td>0.152851</td>\n",
       "      <td>0.390962</td>\n",
       "    </tr>\n",
       "    <tr>\n",
       "      <th>4</th>\n",
       "      <td>XGBoost sin PCA</td>\n",
       "      <td>0.266887</td>\n",
       "      <td>0.141263</td>\n",
       "      <td>0.375849</td>\n",
       "    </tr>\n",
       "    <tr>\n",
       "      <th>5</th>\n",
       "      <td>XGBoost con PCA</td>\n",
       "      <td>0.280481</td>\n",
       "      <td>0.159540</td>\n",
       "      <td>0.399425</td>\n",
       "    </tr>\n",
       "  </tbody>\n",
       "</table>\n",
       "</div>"
      ],
      "text/plain": [
       "                     Modelo       mae       mse     sqmse\n",
       "0  Regresion Lineal sin PCA  0.523260  0.523260  0.678585\n",
       "1  Regresion Lineal con PCA  0.511748  0.450577  0.671250\n",
       "2     Random Forest sin PCA  0.271410  0.144566  0.380218\n",
       "3     Random Forest con PCA  0.272060  0.152851  0.390962\n",
       "4           XGBoost sin PCA  0.266887  0.141263  0.375849\n",
       "5           XGBoost con PCA  0.280481  0.159540  0.399425"
      ]
     },
     "execution_count": 110,
     "metadata": {},
     "output_type": "execute_result"
    }
   ],
   "source": [
    "resultados "
   ]
  },
  {
   "cell_type": "markdown",
   "id": "181d8c78",
   "metadata": {},
   "source": [
    "Tras analizar las métricas de los resultados de los distintos modelos realizados con y sin PCA, llegamos a la conclusión\n",
    "de que el mejor modelo en base a nuestros datos es el de XGBoost sin PCA."
   ]
  },
  {
   "cell_type": "code",
   "execution_count": 111,
   "id": "38dd847e",
   "metadata": {},
   "outputs": [],
   "source": [
    "resultados.to_csv('metricas_modelos.csv')"
   ]
  },
  {
   "cell_type": "code",
   "execution_count": 112,
   "id": "6661893c",
   "metadata": {},
   "outputs": [
    {
     "data": {
      "text/html": [
       "<div>\n",
       "<style scoped>\n",
       "    .dataframe tbody tr th:only-of-type {\n",
       "        vertical-align: middle;\n",
       "    }\n",
       "\n",
       "    .dataframe tbody tr th {\n",
       "        vertical-align: top;\n",
       "    }\n",
       "\n",
       "    .dataframe thead th {\n",
       "        text-align: right;\n",
       "    }\n",
       "</style>\n",
       "<table border=\"1\" class=\"dataframe\">\n",
       "  <thead>\n",
       "    <tr style=\"text-align: right;\">\n",
       "      <th></th>\n",
       "      <th>mae</th>\n",
       "      <th>mse</th>\n",
       "      <th>sqmse</th>\n",
       "    </tr>\n",
       "  </thead>\n",
       "  <tbody>\n",
       "    <tr>\n",
       "      <th>count</th>\n",
       "      <td>6.000000</td>\n",
       "      <td>6.000000</td>\n",
       "      <td>6.000000</td>\n",
       "    </tr>\n",
       "    <tr>\n",
       "      <th>mean</th>\n",
       "      <td>0.354308</td>\n",
       "      <td>0.262009</td>\n",
       "      <td>0.482715</td>\n",
       "    </tr>\n",
       "    <tr>\n",
       "      <th>std</th>\n",
       "      <td>0.126540</td>\n",
       "      <td>0.175840</td>\n",
       "      <td>0.149126</td>\n",
       "    </tr>\n",
       "    <tr>\n",
       "      <th>min</th>\n",
       "      <td>0.266887</td>\n",
       "      <td>0.141263</td>\n",
       "      <td>0.375849</td>\n",
       "    </tr>\n",
       "    <tr>\n",
       "      <th>25%</th>\n",
       "      <td>0.271573</td>\n",
       "      <td>0.146637</td>\n",
       "      <td>0.382904</td>\n",
       "    </tr>\n",
       "    <tr>\n",
       "      <th>50%</th>\n",
       "      <td>0.276270</td>\n",
       "      <td>0.156196</td>\n",
       "      <td>0.395193</td>\n",
       "    </tr>\n",
       "    <tr>\n",
       "      <th>75%</th>\n",
       "      <td>0.453931</td>\n",
       "      <td>0.377818</td>\n",
       "      <td>0.603294</td>\n",
       "    </tr>\n",
       "    <tr>\n",
       "      <th>max</th>\n",
       "      <td>0.523260</td>\n",
       "      <td>0.523260</td>\n",
       "      <td>0.678585</td>\n",
       "    </tr>\n",
       "  </tbody>\n",
       "</table>\n",
       "</div>"
      ],
      "text/plain": [
       "            mae       mse     sqmse\n",
       "count  6.000000  6.000000  6.000000\n",
       "mean   0.354308  0.262009  0.482715\n",
       "std    0.126540  0.175840  0.149126\n",
       "min    0.266887  0.141263  0.375849\n",
       "25%    0.271573  0.146637  0.382904\n",
       "50%    0.276270  0.156196  0.395193\n",
       "75%    0.453931  0.377818  0.603294\n",
       "max    0.523260  0.523260  0.678585"
      ]
     },
     "execution_count": 112,
     "metadata": {},
     "output_type": "execute_result"
    }
   ],
   "source": [
    "resultados.describe()"
   ]
  },
  {
   "cell_type": "code",
   "execution_count": null,
   "id": "b11bb3ee",
   "metadata": {},
   "outputs": [],
   "source": []
  }
 ],
 "metadata": {
  "kernelspec": {
   "display_name": "Python 3 (ipykernel)",
   "language": "python",
   "name": "python3"
  },
  "language_info": {
   "codemirror_mode": {
    "name": "ipython",
    "version": 3
   },
   "file_extension": ".py",
   "mimetype": "text/x-python",
   "name": "python",
   "nbconvert_exporter": "python",
   "pygments_lexer": "ipython3",
   "version": "3.10.9"
  }
 },
 "nbformat": 4,
 "nbformat_minor": 5
}
